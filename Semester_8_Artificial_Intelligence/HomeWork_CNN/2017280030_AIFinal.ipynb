{
 "cells": [
  {
   "cell_type": "markdown",
   "id": "61e223c2",
   "metadata": {},
   "source": [
    "# Import Library"
   ]
  },
  {
   "cell_type": "code",
   "execution_count": 28,
   "id": "1373f75b",
   "metadata": {},
   "outputs": [],
   "source": [
    "from sklearn.metrics import confusion_matrix\n",
    "from sklearn.model_selection import train_test_split\n",
    "from keras.utils.np_utils import to_categorical\n",
    "import itertools\n",
    "from keras.utils.np_utils import to_categorical \n",
    "from keras.models import Sequential\n",
    "from keras.layers import Dense, Dropout, Flatten, Conv2D, MaxPool2D\n",
    "from keras.preprocessing.image import ImageDataGenerator\n",
    "from keras.callbacks import ReduceLROnPlateau\n",
    "from sklearn.metrics import accuracy_score\n",
    "import numpy as np \n",
    "import pandas as pd \n",
    "import seaborn as sns\n",
    "import matplotlib.pyplot as plt\n",
    "import os"
   ]
  },
  {
   "cell_type": "code",
   "execution_count": 2,
   "id": "18566b16",
   "metadata": {},
   "outputs": [
    {
     "name": "stdout",
     "output_type": "stream",
     "text": [
      "['.ipynb_checkpoints', '20172800CNN.py', 'BIL4112-Final-2022.pdf', 'fashion-mnist_test.csv', 'fashion-mnist_train.csv', 'Untitled.ipynb']\n"
     ]
    }
   ],
   "source": [
    "print(os.listdir(\"./\"))"
   ]
  },
  {
   "cell_type": "markdown",
   "id": "27764618",
   "metadata": {},
   "source": [
    "# Read Train"
   ]
  },
  {
   "cell_type": "code",
   "execution_count": 3,
   "id": "b8dfddc4",
   "metadata": {},
   "outputs": [
    {
     "name": "stdout",
     "output_type": "stream",
     "text": [
      "(60000, 785)\n"
     ]
    },
    {
     "data": {
      "text/html": [
       "<div>\n",
       "<style scoped>\n",
       "    .dataframe tbody tr th:only-of-type {\n",
       "        vertical-align: middle;\n",
       "    }\n",
       "\n",
       "    .dataframe tbody tr th {\n",
       "        vertical-align: top;\n",
       "    }\n",
       "\n",
       "    .dataframe thead th {\n",
       "        text-align: right;\n",
       "    }\n",
       "</style>\n",
       "<table border=\"1\" class=\"dataframe\">\n",
       "  <thead>\n",
       "    <tr style=\"text-align: right;\">\n",
       "      <th></th>\n",
       "      <th>label</th>\n",
       "      <th>pixel1</th>\n",
       "      <th>pixel2</th>\n",
       "      <th>pixel3</th>\n",
       "      <th>pixel4</th>\n",
       "      <th>pixel5</th>\n",
       "      <th>pixel6</th>\n",
       "      <th>pixel7</th>\n",
       "      <th>pixel8</th>\n",
       "      <th>pixel9</th>\n",
       "      <th>...</th>\n",
       "      <th>pixel775</th>\n",
       "      <th>pixel776</th>\n",
       "      <th>pixel777</th>\n",
       "      <th>pixel778</th>\n",
       "      <th>pixel779</th>\n",
       "      <th>pixel780</th>\n",
       "      <th>pixel781</th>\n",
       "      <th>pixel782</th>\n",
       "      <th>pixel783</th>\n",
       "      <th>pixel784</th>\n",
       "    </tr>\n",
       "  </thead>\n",
       "  <tbody>\n",
       "    <tr>\n",
       "      <th>0</th>\n",
       "      <td>2</td>\n",
       "      <td>0</td>\n",
       "      <td>0</td>\n",
       "      <td>0</td>\n",
       "      <td>0</td>\n",
       "      <td>0</td>\n",
       "      <td>0</td>\n",
       "      <td>0</td>\n",
       "      <td>0</td>\n",
       "      <td>0</td>\n",
       "      <td>...</td>\n",
       "      <td>0</td>\n",
       "      <td>0</td>\n",
       "      <td>0</td>\n",
       "      <td>0</td>\n",
       "      <td>0</td>\n",
       "      <td>0</td>\n",
       "      <td>0</td>\n",
       "      <td>0</td>\n",
       "      <td>0</td>\n",
       "      <td>0</td>\n",
       "    </tr>\n",
       "    <tr>\n",
       "      <th>1</th>\n",
       "      <td>9</td>\n",
       "      <td>0</td>\n",
       "      <td>0</td>\n",
       "      <td>0</td>\n",
       "      <td>0</td>\n",
       "      <td>0</td>\n",
       "      <td>0</td>\n",
       "      <td>0</td>\n",
       "      <td>0</td>\n",
       "      <td>0</td>\n",
       "      <td>...</td>\n",
       "      <td>0</td>\n",
       "      <td>0</td>\n",
       "      <td>0</td>\n",
       "      <td>0</td>\n",
       "      <td>0</td>\n",
       "      <td>0</td>\n",
       "      <td>0</td>\n",
       "      <td>0</td>\n",
       "      <td>0</td>\n",
       "      <td>0</td>\n",
       "    </tr>\n",
       "    <tr>\n",
       "      <th>2</th>\n",
       "      <td>6</td>\n",
       "      <td>0</td>\n",
       "      <td>0</td>\n",
       "      <td>0</td>\n",
       "      <td>0</td>\n",
       "      <td>0</td>\n",
       "      <td>0</td>\n",
       "      <td>0</td>\n",
       "      <td>5</td>\n",
       "      <td>0</td>\n",
       "      <td>...</td>\n",
       "      <td>0</td>\n",
       "      <td>0</td>\n",
       "      <td>0</td>\n",
       "      <td>30</td>\n",
       "      <td>43</td>\n",
       "      <td>0</td>\n",
       "      <td>0</td>\n",
       "      <td>0</td>\n",
       "      <td>0</td>\n",
       "      <td>0</td>\n",
       "    </tr>\n",
       "    <tr>\n",
       "      <th>3</th>\n",
       "      <td>0</td>\n",
       "      <td>0</td>\n",
       "      <td>0</td>\n",
       "      <td>0</td>\n",
       "      <td>1</td>\n",
       "      <td>2</td>\n",
       "      <td>0</td>\n",
       "      <td>0</td>\n",
       "      <td>0</td>\n",
       "      <td>0</td>\n",
       "      <td>...</td>\n",
       "      <td>3</td>\n",
       "      <td>0</td>\n",
       "      <td>0</td>\n",
       "      <td>0</td>\n",
       "      <td>0</td>\n",
       "      <td>1</td>\n",
       "      <td>0</td>\n",
       "      <td>0</td>\n",
       "      <td>0</td>\n",
       "      <td>0</td>\n",
       "    </tr>\n",
       "    <tr>\n",
       "      <th>4</th>\n",
       "      <td>3</td>\n",
       "      <td>0</td>\n",
       "      <td>0</td>\n",
       "      <td>0</td>\n",
       "      <td>0</td>\n",
       "      <td>0</td>\n",
       "      <td>0</td>\n",
       "      <td>0</td>\n",
       "      <td>0</td>\n",
       "      <td>0</td>\n",
       "      <td>...</td>\n",
       "      <td>0</td>\n",
       "      <td>0</td>\n",
       "      <td>0</td>\n",
       "      <td>0</td>\n",
       "      <td>0</td>\n",
       "      <td>0</td>\n",
       "      <td>0</td>\n",
       "      <td>0</td>\n",
       "      <td>0</td>\n",
       "      <td>0</td>\n",
       "    </tr>\n",
       "  </tbody>\n",
       "</table>\n",
       "<p>5 rows × 785 columns</p>\n",
       "</div>"
      ],
      "text/plain": [
       "   label  pixel1  pixel2  pixel3  pixel4  pixel5  pixel6  pixel7  pixel8  \\\n",
       "0      2       0       0       0       0       0       0       0       0   \n",
       "1      9       0       0       0       0       0       0       0       0   \n",
       "2      6       0       0       0       0       0       0       0       5   \n",
       "3      0       0       0       0       1       2       0       0       0   \n",
       "4      3       0       0       0       0       0       0       0       0   \n",
       "\n",
       "   pixel9  ...  pixel775  pixel776  pixel777  pixel778  pixel779  pixel780  \\\n",
       "0       0  ...         0         0         0         0         0         0   \n",
       "1       0  ...         0         0         0         0         0         0   \n",
       "2       0  ...         0         0         0        30        43         0   \n",
       "3       0  ...         3         0         0         0         0         1   \n",
       "4       0  ...         0         0         0         0         0         0   \n",
       "\n",
       "   pixel781  pixel782  pixel783  pixel784  \n",
       "0         0         0         0         0  \n",
       "1         0         0         0         0  \n",
       "2         0         0         0         0  \n",
       "3         0         0         0         0  \n",
       "4         0         0         0         0  \n",
       "\n",
       "[5 rows x 785 columns]"
      ]
     },
     "execution_count": 3,
     "metadata": {},
     "output_type": "execute_result"
    }
   ],
   "source": [
    "traindf = pd.read_csv(\"./fashion-mnist_train.csv\")\n",
    "print(traindf.shape)\n",
    "traindf.head()"
   ]
  },
  {
   "cell_type": "markdown",
   "id": "eb23932b",
   "metadata": {},
   "source": [
    "# Read Test"
   ]
  },
  {
   "cell_type": "code",
   "execution_count": 4,
   "id": "a41512a7",
   "metadata": {},
   "outputs": [
    {
     "name": "stdout",
     "output_type": "stream",
     "text": [
      "(10000, 785)\n"
     ]
    },
    {
     "data": {
      "text/html": [
       "<div>\n",
       "<style scoped>\n",
       "    .dataframe tbody tr th:only-of-type {\n",
       "        vertical-align: middle;\n",
       "    }\n",
       "\n",
       "    .dataframe tbody tr th {\n",
       "        vertical-align: top;\n",
       "    }\n",
       "\n",
       "    .dataframe thead th {\n",
       "        text-align: right;\n",
       "    }\n",
       "</style>\n",
       "<table border=\"1\" class=\"dataframe\">\n",
       "  <thead>\n",
       "    <tr style=\"text-align: right;\">\n",
       "      <th></th>\n",
       "      <th>label</th>\n",
       "      <th>pixel1</th>\n",
       "      <th>pixel2</th>\n",
       "      <th>pixel3</th>\n",
       "      <th>pixel4</th>\n",
       "      <th>pixel5</th>\n",
       "      <th>pixel6</th>\n",
       "      <th>pixel7</th>\n",
       "      <th>pixel8</th>\n",
       "      <th>pixel9</th>\n",
       "      <th>...</th>\n",
       "      <th>pixel775</th>\n",
       "      <th>pixel776</th>\n",
       "      <th>pixel777</th>\n",
       "      <th>pixel778</th>\n",
       "      <th>pixel779</th>\n",
       "      <th>pixel780</th>\n",
       "      <th>pixel781</th>\n",
       "      <th>pixel782</th>\n",
       "      <th>pixel783</th>\n",
       "      <th>pixel784</th>\n",
       "    </tr>\n",
       "  </thead>\n",
       "  <tbody>\n",
       "    <tr>\n",
       "      <th>0</th>\n",
       "      <td>0</td>\n",
       "      <td>0</td>\n",
       "      <td>0</td>\n",
       "      <td>0</td>\n",
       "      <td>0</td>\n",
       "      <td>0</td>\n",
       "      <td>0</td>\n",
       "      <td>0</td>\n",
       "      <td>9</td>\n",
       "      <td>8</td>\n",
       "      <td>...</td>\n",
       "      <td>103</td>\n",
       "      <td>87</td>\n",
       "      <td>56</td>\n",
       "      <td>0</td>\n",
       "      <td>0</td>\n",
       "      <td>0</td>\n",
       "      <td>0</td>\n",
       "      <td>0</td>\n",
       "      <td>0</td>\n",
       "      <td>0</td>\n",
       "    </tr>\n",
       "    <tr>\n",
       "      <th>1</th>\n",
       "      <td>1</td>\n",
       "      <td>0</td>\n",
       "      <td>0</td>\n",
       "      <td>0</td>\n",
       "      <td>0</td>\n",
       "      <td>0</td>\n",
       "      <td>0</td>\n",
       "      <td>0</td>\n",
       "      <td>0</td>\n",
       "      <td>0</td>\n",
       "      <td>...</td>\n",
       "      <td>34</td>\n",
       "      <td>0</td>\n",
       "      <td>0</td>\n",
       "      <td>0</td>\n",
       "      <td>0</td>\n",
       "      <td>0</td>\n",
       "      <td>0</td>\n",
       "      <td>0</td>\n",
       "      <td>0</td>\n",
       "      <td>0</td>\n",
       "    </tr>\n",
       "    <tr>\n",
       "      <th>2</th>\n",
       "      <td>2</td>\n",
       "      <td>0</td>\n",
       "      <td>0</td>\n",
       "      <td>0</td>\n",
       "      <td>0</td>\n",
       "      <td>0</td>\n",
       "      <td>0</td>\n",
       "      <td>14</td>\n",
       "      <td>53</td>\n",
       "      <td>99</td>\n",
       "      <td>...</td>\n",
       "      <td>0</td>\n",
       "      <td>0</td>\n",
       "      <td>0</td>\n",
       "      <td>0</td>\n",
       "      <td>63</td>\n",
       "      <td>53</td>\n",
       "      <td>31</td>\n",
       "      <td>0</td>\n",
       "      <td>0</td>\n",
       "      <td>0</td>\n",
       "    </tr>\n",
       "    <tr>\n",
       "      <th>3</th>\n",
       "      <td>2</td>\n",
       "      <td>0</td>\n",
       "      <td>0</td>\n",
       "      <td>0</td>\n",
       "      <td>0</td>\n",
       "      <td>0</td>\n",
       "      <td>0</td>\n",
       "      <td>0</td>\n",
       "      <td>0</td>\n",
       "      <td>0</td>\n",
       "      <td>...</td>\n",
       "      <td>137</td>\n",
       "      <td>126</td>\n",
       "      <td>140</td>\n",
       "      <td>0</td>\n",
       "      <td>133</td>\n",
       "      <td>224</td>\n",
       "      <td>222</td>\n",
       "      <td>56</td>\n",
       "      <td>0</td>\n",
       "      <td>0</td>\n",
       "    </tr>\n",
       "    <tr>\n",
       "      <th>4</th>\n",
       "      <td>3</td>\n",
       "      <td>0</td>\n",
       "      <td>0</td>\n",
       "      <td>0</td>\n",
       "      <td>0</td>\n",
       "      <td>0</td>\n",
       "      <td>0</td>\n",
       "      <td>0</td>\n",
       "      <td>0</td>\n",
       "      <td>0</td>\n",
       "      <td>...</td>\n",
       "      <td>0</td>\n",
       "      <td>0</td>\n",
       "      <td>0</td>\n",
       "      <td>0</td>\n",
       "      <td>0</td>\n",
       "      <td>0</td>\n",
       "      <td>0</td>\n",
       "      <td>0</td>\n",
       "      <td>0</td>\n",
       "      <td>0</td>\n",
       "    </tr>\n",
       "  </tbody>\n",
       "</table>\n",
       "<p>5 rows × 785 columns</p>\n",
       "</div>"
      ],
      "text/plain": [
       "   label  pixel1  pixel2  pixel3  pixel4  pixel5  pixel6  pixel7  pixel8  \\\n",
       "0      0       0       0       0       0       0       0       0       9   \n",
       "1      1       0       0       0       0       0       0       0       0   \n",
       "2      2       0       0       0       0       0       0      14      53   \n",
       "3      2       0       0       0       0       0       0       0       0   \n",
       "4      3       0       0       0       0       0       0       0       0   \n",
       "\n",
       "   pixel9  ...  pixel775  pixel776  pixel777  pixel778  pixel779  pixel780  \\\n",
       "0       8  ...       103        87        56         0         0         0   \n",
       "1       0  ...        34         0         0         0         0         0   \n",
       "2      99  ...         0         0         0         0        63        53   \n",
       "3       0  ...       137       126       140         0       133       224   \n",
       "4       0  ...         0         0         0         0         0         0   \n",
       "\n",
       "   pixel781  pixel782  pixel783  pixel784  \n",
       "0         0         0         0         0  \n",
       "1         0         0         0         0  \n",
       "2        31         0         0         0  \n",
       "3       222        56         0         0  \n",
       "4         0         0         0         0  \n",
       "\n",
       "[5 rows x 785 columns]"
      ]
     },
     "execution_count": 4,
     "metadata": {},
     "output_type": "execute_result"
    }
   ],
   "source": [
    "testdf= pd.read_csv(\"./fashion-mnist_test.csv\")\n",
    "print(testdf.shape)\n",
    "testdf.head()"
   ]
  },
  {
   "cell_type": "code",
   "execution_count": 5,
   "id": "27274422",
   "metadata": {},
   "outputs": [],
   "source": [
    "class_names = ['T_shirt/top', 'Trouser', 'Pullover', 'Dress', 'Coat', \n",
    "               'Sandal', 'Shirt', 'Sneaker', 'Bag', 'Ankle boot']"
   ]
  },
  {
   "cell_type": "markdown",
   "id": "d434d498",
   "metadata": {},
   "source": [
    "# Split for test and train to X,Y"
   ]
  },
  {
   "cell_type": "code",
   "execution_count": 6,
   "id": "0160a458",
   "metadata": {},
   "outputs": [],
   "source": [
    "Y_train = traindf[\"label\"]\n",
    "X_train = traindf.drop(labels = [\"label\"],axis = 1)\n",
    "Y_test = testdf[\"label\"]\n",
    "X_test = testdf.drop(labels = [\"label\"],axis = 1)"
   ]
  },
  {
   "cell_type": "code",
   "execution_count": 7,
   "id": "ba6bc997",
   "metadata": {},
   "outputs": [
    {
     "data": {
      "text/plain": [
       "2    6000\n",
       "9    6000\n",
       "6    6000\n",
       "0    6000\n",
       "3    6000\n",
       "4    6000\n",
       "5    6000\n",
       "8    6000\n",
       "7    6000\n",
       "1    6000\n",
       "Name: label, dtype: int64"
      ]
     },
     "execution_count": 7,
     "metadata": {},
     "output_type": "execute_result"
    }
   ],
   "source": [
    "Y_train.value_counts()"
   ]
  },
  {
   "cell_type": "code",
   "execution_count": 8,
   "id": "c032ed78",
   "metadata": {
    "scrolled": true
   },
   "outputs": [
    {
     "data": {
      "text/plain": [
       "0    1000\n",
       "1    1000\n",
       "2    1000\n",
       "3    1000\n",
       "8    1000\n",
       "6    1000\n",
       "5    1000\n",
       "4    1000\n",
       "7    1000\n",
       "9    1000\n",
       "Name: label, dtype: int64"
      ]
     },
     "execution_count": 8,
     "metadata": {},
     "output_type": "execute_result"
    }
   ],
   "source": [
    "Y_test.value_counts()"
   ]
  },
  {
   "cell_type": "markdown",
   "id": "9232e278",
   "metadata": {},
   "source": [
    "# Check Random Row"
   ]
  },
  {
   "cell_type": "code",
   "execution_count": 9,
   "id": "79be7a58",
   "metadata": {},
   "outputs": [
    {
     "data": {
      "image/png": "[encoded data removed]",
      "text/plain": [
       "<Figure size 432x288 with 1 Axes>"
      ]
     },
     "metadata": {
      "needs_background": "light"
     },
     "output_type": "display_data"
    }
   ],
   "source": [
    "img = X_train.iloc[0].values\n",
    "img = img.reshape((28,28))\n",
    "plt.imshow(img,cmap='gray')\n",
    "plt.title(class_names[Y_train.iloc[0]])\n",
    "plt.axis(\"off\")\n",
    "plt.show()"
   ]
  },
  {
   "cell_type": "markdown",
   "id": "7b9fe241",
   "metadata": {},
   "source": [
    "# Normalization"
   ]
  },
  {
   "cell_type": "code",
   "execution_count": 10,
   "id": "56283750",
   "metadata": {
    "scrolled": true
   },
   "outputs": [],
   "source": [
    "X_train = X_train / 255.0\n",
    "X_test = X_test / 255.0"
   ]
  },
  {
   "cell_type": "markdown",
   "id": "fab36a89",
   "metadata": {},
   "source": [
    "# Reshape process to model"
   ]
  },
  {
   "cell_type": "code",
   "execution_count": 11,
   "id": "18cb007f",
   "metadata": {},
   "outputs": [],
   "source": [
    "X_train = X_train.values.reshape(-1,28,28,1)\n",
    "X_test = X_test.values.reshape(-1,28,28,1)"
   ]
  },
  {
   "cell_type": "markdown",
   "id": "1c1344c5",
   "metadata": {},
   "source": [
    "# Encode Categorical Y    X[0]=1--->X[0]=[0,1,0,0,0,0,0,0,0,0]"
   ]
  },
  {
   "cell_type": "code",
   "execution_count": 12,
   "id": "a298301b",
   "metadata": {},
   "outputs": [],
   "source": [
    "Y_train = to_categorical(Y_train, num_classes = 10)\n",
    "Y_test = to_categorical(Y_test, num_classes = 10)"
   ]
  },
  {
   "cell_type": "markdown",
   "id": "e9df9d99",
   "metadata": {},
   "source": [
    "# Split from train set to validate set"
   ]
  },
  {
   "cell_type": "code",
   "execution_count": 13,
   "id": "993c914b",
   "metadata": {},
   "outputs": [],
   "source": [
    "X_train, X_val, Y_train, Y_val = train_test_split(X_train, Y_train, test_size = 0.1, random_state=2)"
   ]
  },
  {
   "cell_type": "markdown",
   "id": "355dfa84",
   "metadata": {},
   "source": [
    "# Creating model"
   ]
  },
  {
   "cell_type": "code",
   "execution_count": 14,
   "id": "c5d54555",
   "metadata": {},
   "outputs": [],
   "source": [
    "model = Sequential()\n",
    "model.add(Conv2D(filters = 8, kernel_size = (5,5),padding = 'Same', \n",
    "                 activation ='relu', input_shape = (28,28,1)))\n",
    "\n",
    "model.add(MaxPool2D(pool_size=(2,2)))\n",
    "model.add(Dropout(0.25))\n",
    "#\n",
    "model.add(Conv2D(filters = 16, kernel_size = (3,3),padding = 'Same', \n",
    "                 activation ='relu'))\n",
    "\n",
    "model.add(MaxPool2D(pool_size=(2,2), strides=(2,2)))\n",
    "model.add(Dropout(0.25))\n",
    "\n",
    "# fully connected\n",
    "model.add(Flatten())\n",
    "model.add(Dense(256, activation = \"relu\"))\n",
    "model.add(Dropout(0.5))\n",
    "model.add(Dense(10, activation = \"softmax\"))"
   ]
  },
  {
   "cell_type": "code",
   "execution_count": 15,
   "id": "b968a186",
   "metadata": {},
   "outputs": [],
   "source": [
    "model.compile(optimizer = \"Adam\" , loss = \"categorical_crossentropy\", metrics=[\"accuracy\"])"
   ]
  },
  {
   "cell_type": "code",
   "execution_count": 16,
   "id": "25fb4fdf",
   "metadata": {},
   "outputs": [],
   "source": [
    "epochs = 75 \n",
    "batch_size = 250"
   ]
  },
  {
   "cell_type": "code",
   "execution_count": 17,
   "id": "94213a19",
   "metadata": {
    "scrolled": true
   },
   "outputs": [],
   "source": [
    "datagen = ImageDataGenerator(\n",
    "        featurewise_center=False, \n",
    "        samplewise_center=False,  \n",
    "        featurewise_std_normalization=False,  \n",
    "        samplewise_std_normalization=False,  \n",
    "        zca_whitening=False,  \n",
    "        rotation_range=5,  \n",
    "        zoom_range = 0.1, \n",
    "        width_shift_range=0.1,  \n",
    "        height_shift_range=0.1,  \n",
    "        horizontal_flip=False,  \n",
    "        vertical_flip=False) \n",
    "\n",
    "datagen.fit(X_train)"
   ]
  },
  {
   "cell_type": "markdown",
   "id": "abd4f595",
   "metadata": {},
   "source": [
    "# Fit Model"
   ]
  },
  {
   "cell_type": "code",
   "execution_count": 18,
   "id": "9a9efc82",
   "metadata": {},
   "outputs": [
    {
     "name": "stdout",
     "output_type": "stream",
     "text": [
      "Epoch 1/75\n",
      "216/216 [==============================] - 40s 182ms/step - loss: 1.0252 - accuracy: 0.6148 - val_loss: 0.6072 - val_accuracy: 0.7612\n",
      "Epoch 2/75\n",
      "216/216 [==============================] - 41s 190ms/step - loss: 0.7296 - accuracy: 0.7207 - val_loss: 0.5537 - val_accuracy: 0.7727\n",
      "Epoch 3/75\n",
      "216/216 [==============================] - 45s 206ms/step - loss: 0.6592 - accuracy: 0.7472 - val_loss: 0.4930 - val_accuracy: 0.8048\n",
      "Epoch 4/75\n",
      "216/216 [==============================] - 43s 198ms/step - loss: 0.6253 - accuracy: 0.7622 - val_loss: 0.4584 - val_accuracy: 0.8263\n",
      "Epoch 5/75\n",
      "216/216 [==============================] - 58s 266ms/step - loss: 0.6045 - accuracy: 0.7674 - val_loss: 0.4396 - val_accuracy: 0.8317\n",
      "Epoch 6/75\n",
      "216/216 [==============================] - 63s 290ms/step - loss: 0.5808 - accuracy: 0.7773 - val_loss: 0.4188 - val_accuracy: 0.8387\n",
      "Epoch 7/75\n",
      "216/216 [==============================] - 47s 217ms/step - loss: 0.5635 - accuracy: 0.7853 - val_loss: 0.4102 - val_accuracy: 0.8412\n",
      "Epoch 8/75\n",
      "216/216 [==============================] - 43s 199ms/step - loss: 0.5500 - accuracy: 0.7892 - val_loss: 0.3974 - val_accuracy: 0.8465\n",
      "Epoch 9/75\n",
      "216/216 [==============================] - 39s 181ms/step - loss: 0.5420 - accuracy: 0.7924 - val_loss: 0.3810 - val_accuracy: 0.8527\n",
      "Epoch 10/75\n",
      "216/216 [==============================] - 41s 190ms/step - loss: 0.5269 - accuracy: 0.7995 - val_loss: 0.3706 - val_accuracy: 0.8558\n",
      "Epoch 11/75\n",
      "216/216 [==============================] - 39s 182ms/step - loss: 0.5192 - accuracy: 0.8002 - val_loss: 0.3655 - val_accuracy: 0.8615\n",
      "Epoch 12/75\n",
      "216/216 [==============================] - 46s 215ms/step - loss: 0.5086 - accuracy: 0.8067 - val_loss: 0.3631 - val_accuracy: 0.8618\n",
      "Epoch 13/75\n",
      "216/216 [==============================] - 49s 225ms/step - loss: 0.4981 - accuracy: 0.8104 - val_loss: 0.3516 - val_accuracy: 0.8655\n",
      "Epoch 14/75\n",
      "216/216 [==============================] - 48s 222ms/step - loss: 0.4917 - accuracy: 0.8142 - val_loss: 0.3429 - val_accuracy: 0.8718\n",
      "Epoch 15/75\n",
      "216/216 [==============================] - 46s 212ms/step - loss: 0.4874 - accuracy: 0.8128 - val_loss: 0.3369 - val_accuracy: 0.8743\n",
      "Epoch 16/75\n",
      "216/216 [==============================] - 51s 235ms/step - loss: 0.4819 - accuracy: 0.8167 - val_loss: 0.3345 - val_accuracy: 0.8705\n",
      "Epoch 17/75\n",
      "216/216 [==============================] - 45s 210ms/step - loss: 0.4740 - accuracy: 0.8199 - val_loss: 0.3367 - val_accuracy: 0.8723\n",
      "Epoch 18/75\n",
      "216/216 [==============================] - 47s 217ms/step - loss: 0.4701 - accuracy: 0.8198 - val_loss: 0.3192 - val_accuracy: 0.8783\n",
      "Epoch 19/75\n",
      "216/216 [==============================] - 47s 217ms/step - loss: 0.4629 - accuracy: 0.8239 - val_loss: 0.3167 - val_accuracy: 0.8823\n",
      "Epoch 20/75\n",
      "216/216 [==============================] - 44s 201ms/step - loss: 0.4587 - accuracy: 0.8260 - val_loss: 0.3263 - val_accuracy: 0.8752\n",
      "Epoch 21/75\n",
      "216/216 [==============================] - 39s 179ms/step - loss: 0.4550 - accuracy: 0.8260 - val_loss: 0.3133 - val_accuracy: 0.8822\n",
      "Epoch 22/75\n",
      "216/216 [==============================] - 41s 190ms/step - loss: 0.4491 - accuracy: 0.8298 - val_loss: 0.3302 - val_accuracy: 0.8790\n",
      "Epoch 23/75\n",
      "216/216 [==============================] - 45s 210ms/step - loss: 0.4486 - accuracy: 0.8292 - val_loss: 0.3119 - val_accuracy: 0.8843\n",
      "Epoch 24/75\n",
      "216/216 [==============================] - 49s 225ms/step - loss: 0.4455 - accuracy: 0.8305 - val_loss: 0.3118 - val_accuracy: 0.8810\n",
      "Epoch 25/75\n",
      "216/216 [==============================] - 44s 202ms/step - loss: 0.4390 - accuracy: 0.8341 - val_loss: 0.3041 - val_accuracy: 0.8828\n",
      "Epoch 26/75\n",
      "216/216 [==============================] - 40s 185ms/step - loss: 0.4386 - accuracy: 0.8342 - val_loss: 0.3063 - val_accuracy: 0.8865\n",
      "Epoch 27/75\n",
      "216/216 [==============================] - 39s 179ms/step - loss: 0.4363 - accuracy: 0.8339 - val_loss: 0.2993 - val_accuracy: 0.8878\n",
      "Epoch 28/75\n",
      "216/216 [==============================] - 38s 176ms/step - loss: 0.4313 - accuracy: 0.8371 - val_loss: 0.3135 - val_accuracy: 0.8830\n",
      "Epoch 29/75\n",
      "216/216 [==============================] - 45s 209ms/step - loss: 0.4319 - accuracy: 0.8368 - val_loss: 0.3201 - val_accuracy: 0.8850\n",
      "Epoch 30/75\n",
      "216/216 [==============================] - 40s 183ms/step - loss: 0.4301 - accuracy: 0.8359 - val_loss: 0.2938 - val_accuracy: 0.8912\n",
      "Epoch 31/75\n",
      "216/216 [==============================] - 43s 201ms/step - loss: 0.4288 - accuracy: 0.8380 - val_loss: 0.2971 - val_accuracy: 0.8893\n",
      "Epoch 32/75\n",
      "216/216 [==============================] - 40s 184ms/step - loss: 0.4218 - accuracy: 0.8400 - val_loss: 0.2994 - val_accuracy: 0.8917\n",
      "Epoch 33/75\n",
      "216/216 [==============================] - 39s 181ms/step - loss: 0.4202 - accuracy: 0.8412 - val_loss: 0.2915 - val_accuracy: 0.8915\n",
      "Epoch 34/75\n",
      "216/216 [==============================] - 39s 181ms/step - loss: 0.4217 - accuracy: 0.8415 - val_loss: 0.2926 - val_accuracy: 0.8878\n",
      "Epoch 35/75\n",
      "216/216 [==============================] - 40s 185ms/step - loss: 0.4191 - accuracy: 0.8399 - val_loss: 0.2836 - val_accuracy: 0.8960\n",
      "Epoch 36/75\n",
      "216/216 [==============================] - 37s 173ms/step - loss: 0.4135 - accuracy: 0.8444 - val_loss: 0.2900 - val_accuracy: 0.8940\n",
      "Epoch 37/75\n",
      "216/216 [==============================] - 39s 183ms/step - loss: 0.4127 - accuracy: 0.8444 - val_loss: 0.2897 - val_accuracy: 0.8952\n",
      "Epoch 38/75\n",
      "216/216 [==============================] - 39s 179ms/step - loss: 0.4128 - accuracy: 0.8430 - val_loss: 0.2916 - val_accuracy: 0.8915\n",
      "Epoch 39/75\n",
      "216/216 [==============================] - 42s 197ms/step - loss: 0.4091 - accuracy: 0.8445 - val_loss: 0.2869 - val_accuracy: 0.8950\n",
      "Epoch 40/75\n",
      "216/216 [==============================] - 43s 197ms/step - loss: 0.4085 - accuracy: 0.8443 - val_loss: 0.2869 - val_accuracy: 0.8937\n",
      "Epoch 41/75\n",
      "216/216 [==============================] - 39s 181ms/step - loss: 0.4064 - accuracy: 0.8459 - val_loss: 0.2871 - val_accuracy: 0.8933\n",
      "Epoch 42/75\n",
      "216/216 [==============================] - 39s 178ms/step - loss: 0.4076 - accuracy: 0.8448 - val_loss: 0.3019 - val_accuracy: 0.8897\n",
      "Epoch 43/75\n",
      "216/216 [==============================] - 39s 180ms/step - loss: 0.4065 - accuracy: 0.8474 - val_loss: 0.2854 - val_accuracy: 0.8935\n",
      "Epoch 44/75\n",
      "216/216 [==============================] - 39s 181ms/step - loss: 0.4039 - accuracy: 0.8485 - val_loss: 0.2782 - val_accuracy: 0.8973\n",
      "Epoch 45/75\n",
      "216/216 [==============================] - 41s 191ms/step - loss: 0.4026 - accuracy: 0.8474 - val_loss: 0.2841 - val_accuracy: 0.8967\n",
      "Epoch 46/75\n",
      "216/216 [==============================] - 40s 184ms/step - loss: 0.4019 - accuracy: 0.8477 - val_loss: 0.2843 - val_accuracy: 0.8950\n",
      "Epoch 47/75\n",
      "216/216 [==============================] - 39s 181ms/step - loss: 0.3974 - accuracy: 0.8491 - val_loss: 0.2775 - val_accuracy: 0.8993\n",
      "Epoch 48/75\n",
      "216/216 [==============================] - 39s 179ms/step - loss: 0.4001 - accuracy: 0.8502 - val_loss: 0.2817 - val_accuracy: 0.8945\n",
      "Epoch 49/75\n",
      "216/216 [==============================] - 40s 185ms/step - loss: 0.3979 - accuracy: 0.8511 - val_loss: 0.2854 - val_accuracy: 0.8902\n",
      "Epoch 50/75\n",
      "216/216 [==============================] - 39s 180ms/step - loss: 0.3958 - accuracy: 0.8513 - val_loss: 0.2792 - val_accuracy: 0.8978\n",
      "Epoch 51/75\n",
      "216/216 [==============================] - 39s 181ms/step - loss: 0.3971 - accuracy: 0.8502 - val_loss: 0.2766 - val_accuracy: 0.8980\n",
      "Epoch 52/75\n",
      "216/216 [==============================] - 39s 179ms/step - loss: 0.3965 - accuracy: 0.8523 - val_loss: 0.2727 - val_accuracy: 0.8998\n",
      "Epoch 53/75\n",
      "216/216 [==============================] - 41s 189ms/step - loss: 0.3928 - accuracy: 0.8508 - val_loss: 0.2688 - val_accuracy: 0.9003\n",
      "Epoch 54/75\n",
      "216/216 [==============================] - 38s 177ms/step - loss: 0.3972 - accuracy: 0.8513 - val_loss: 0.2775 - val_accuracy: 0.8967\n",
      "Epoch 55/75\n",
      "216/216 [==============================] - 39s 179ms/step - loss: 0.3900 - accuracy: 0.8542 - val_loss: 0.2747 - val_accuracy: 0.8965\n",
      "Epoch 56/75\n",
      "216/216 [==============================] - 39s 179ms/step - loss: 0.3902 - accuracy: 0.8521 - val_loss: 0.2760 - val_accuracy: 0.8977\n",
      "Epoch 57/75\n"
     ]
    },
    {
     "name": "stdout",
     "output_type": "stream",
     "text": [
      "216/216 [==============================] - 38s 177ms/step - loss: 0.3896 - accuracy: 0.8539 - val_loss: 0.2933 - val_accuracy: 0.8905\n",
      "Epoch 58/75\n",
      "216/216 [==============================] - 39s 178ms/step - loss: 0.3872 - accuracy: 0.8533 - val_loss: 0.2730 - val_accuracy: 0.9008\n",
      "Epoch 59/75\n",
      "216/216 [==============================] - 39s 179ms/step - loss: 0.3948 - accuracy: 0.8527 - val_loss: 0.2766 - val_accuracy: 0.8980\n",
      "Epoch 60/75\n",
      "216/216 [==============================] - 39s 179ms/step - loss: 0.3880 - accuracy: 0.8543 - val_loss: 0.2769 - val_accuracy: 0.8983\n",
      "Epoch 61/75\n",
      "216/216 [==============================] - 41s 189ms/step - loss: 0.3875 - accuracy: 0.8539 - val_loss: 0.2761 - val_accuracy: 0.8955\n",
      "Epoch 62/75\n",
      "216/216 [==============================] - 39s 180ms/step - loss: 0.3873 - accuracy: 0.8539 - val_loss: 0.2774 - val_accuracy: 0.8957\n",
      "Epoch 63/75\n",
      "216/216 [==============================] - 39s 179ms/step - loss: 0.3867 - accuracy: 0.8542 - val_loss: 0.2706 - val_accuracy: 0.8993\n",
      "Epoch 64/75\n",
      "216/216 [==============================] - 39s 179ms/step - loss: 0.3859 - accuracy: 0.8550 - val_loss: 0.2740 - val_accuracy: 0.8963\n",
      "Epoch 65/75\n",
      "216/216 [==============================] - 38s 178ms/step - loss: 0.3861 - accuracy: 0.8548 - val_loss: 0.2692 - val_accuracy: 0.8988\n",
      "Epoch 66/75\n",
      "216/216 [==============================] - 39s 180ms/step - loss: 0.3833 - accuracy: 0.8556 - val_loss: 0.2697 - val_accuracy: 0.8985\n",
      "Epoch 67/75\n",
      "216/216 [==============================] - 39s 180ms/step - loss: 0.3802 - accuracy: 0.8557 - val_loss: 0.2754 - val_accuracy: 0.8945\n",
      "Epoch 68/75\n",
      "216/216 [==============================] - 39s 179ms/step - loss: 0.3822 - accuracy: 0.8568 - val_loss: 0.2750 - val_accuracy: 0.9013\n",
      "Epoch 69/75\n",
      "216/216 [==============================] - 41s 192ms/step - loss: 0.3813 - accuracy: 0.8576 - val_loss: 0.2658 - val_accuracy: 0.9018\n",
      "Epoch 70/75\n",
      "216/216 [==============================] - 39s 179ms/step - loss: 0.3843 - accuracy: 0.8566 - val_loss: 0.2681 - val_accuracy: 0.9043\n",
      "Epoch 71/75\n",
      "216/216 [==============================] - 39s 179ms/step - loss: 0.3782 - accuracy: 0.8591 - val_loss: 0.2630 - val_accuracy: 0.9037\n",
      "Epoch 72/75\n",
      "216/216 [==============================] - 39s 180ms/step - loss: 0.3745 - accuracy: 0.8606 - val_loss: 0.2668 - val_accuracy: 0.9015\n",
      "Epoch 73/75\n",
      "216/216 [==============================] - 39s 180ms/step - loss: 0.3781 - accuracy: 0.8576 - val_loss: 0.2996 - val_accuracy: 0.8872\n",
      "Epoch 74/75\n",
      "216/216 [==============================] - 39s 179ms/step - loss: 0.3845 - accuracy: 0.8558 - val_loss: 0.2976 - val_accuracy: 0.8878\n",
      "Epoch 75/75\n",
      "216/216 [==============================] - 39s 180ms/step - loss: 0.3771 - accuracy: 0.8589 - val_loss: 0.2613 - val_accuracy: 0.9055\n"
     ]
    }
   ],
   "source": [
    "history = model.fit(datagen.flow(X_train,Y_train, batch_size=batch_size), epochs = epochs, validation_data = (X_val,Y_val), steps_per_epoch=X_train.shape[0] // batch_size)"
   ]
  },
  {
   "cell_type": "markdown",
   "id": "81c30285",
   "metadata": {},
   "source": [
    "# Check History loss for overfitting"
   ]
  },
  {
   "cell_type": "code",
   "execution_count": 19,
   "id": "215d5a59",
   "metadata": {},
   "outputs": [
    {
     "data": {
      "image/png": "[encoded data removed]",
      "text/plain": [
       "<Figure size 432x288 with 1 Axes>"
      ]
     },
     "metadata": {
      "needs_background": "light"
     },
     "output_type": "display_data"
    }
   ],
   "source": [
    "plt.plot(history.history['val_loss'], color='b', label=\"validation loss\")\n",
    "plt.title(\"Test Loss\")\n",
    "plt.xlabel(\"Number of Epochs\")\n",
    "plt.ylabel(\"Loss\")\n",
    "plt.legend()\n",
    "plt.show()"
   ]
  },
  {
   "cell_type": "markdown",
   "id": "aa8603da",
   "metadata": {},
   "source": [
    "# Train Results"
   ]
  },
  {
   "cell_type": "code",
   "execution_count": 58,
   "id": "ad023458",
   "metadata": {},
   "outputs": [
    {
     "data": {
      "image/png": "[encoded data removed]",
      "text/plain": [
       "<Figure size 576x576 with 2 Axes>"
      ]
     },
     "metadata": {
      "needs_background": "light"
     },
     "output_type": "display_data"
    }
   ],
   "source": [
    "Y_pred = model.predict(X_train)\n",
    "Y_pred_classes = np.argmax(Y_pred,axis = 1) \n",
    "Y_true = np.argmax(Y_train,axis = 1) \n",
    "confusion_mtx = confusion_matrix(Y_true, Y_pred_classes) \n",
    "\n",
    "f,ax = plt.subplots(figsize=(8, 8))\n",
    "sns.heatmap(confusion_mtx, annot=True, linewidths=0.01,cmap=\"Greens\",linecolor=\"gray\", fmt= '.1f',ax=ax)\n",
    "plt.xlabel(\"Predicted Label\")\n",
    "plt.ylabel(\"True Label\")\n",
    "plt.title(\"Train Confusion Matrix\")\n",
    "plt.show()"
   ]
  },
  {
   "cell_type": "code",
   "execution_count": 59,
   "id": "49cd1b90",
   "metadata": {
    "scrolled": true
   },
   "outputs": [
    {
     "data": {
      "text/plain": [
       "0.9094074074074074"
      ]
     },
     "execution_count": 59,
     "metadata": {},
     "output_type": "execute_result"
    }
   ],
   "source": [
    "accuracy_score(Y_true, Y_pred_classes)"
   ]
  },
  {
   "cell_type": "code",
   "execution_count": 60,
   "id": "3dbfcd44",
   "metadata": {},
   "outputs": [
    {
     "data": {
      "text/plain": [
       "array([0.8767619 , 0.98862789, 0.88591409, 0.91033852, 0.82898339,\n",
       "       0.98354898, 0.71340524, 0.95216359, 0.99      , 0.97984555])"
      ]
     },
     "execution_count": 60,
     "metadata": {},
     "output_type": "execute_result"
    }
   ],
   "source": [
    "np.max(confusion_mtx,axis=0)/np.sum(confusion_mtx,axis=0)"
   ]
  },
  {
   "cell_type": "markdown",
   "id": "12db974d",
   "metadata": {},
   "source": [
    "# Validation Results"
   ]
  },
  {
   "cell_type": "code",
   "execution_count": 61,
   "id": "0ee36cae",
   "metadata": {},
   "outputs": [
    {
     "data": {
      "image/png": "[encoded data removed]",
      "text/plain": [
       "<Figure size 576x576 with 2 Axes>"
      ]
     },
     "metadata": {
      "needs_background": "light"
     },
     "output_type": "display_data"
    }
   ],
   "source": [
    "Y_pred = model.predict(X_val)\n",
    "Y_pred_classes = np.argmax(Y_pred,axis = 1) \n",
    "Y_true = np.argmax(Y_val,axis = 1) \n",
    "confusion_mtx = confusion_matrix(Y_true, Y_pred_classes) \n",
    "\n",
    "f,ax = plt.subplots(figsize=(8, 8))\n",
    "sns.heatmap(confusion_mtx, annot=True, linewidths=0.01,cmap=\"Greens\",linecolor=\"gray\", fmt= '.1f',ax=ax)\n",
    "plt.xlabel(\"Predicted Label\")\n",
    "plt.ylabel(\"True Label\")\n",
    "plt.title(\"Train Confusion Matrix\")\n",
    "plt.show()"
   ]
  },
  {
   "cell_type": "code",
   "execution_count": 62,
   "id": "858dd723",
   "metadata": {},
   "outputs": [
    {
     "data": {
      "text/plain": [
       "0.9055"
      ]
     },
     "execution_count": 62,
     "metadata": {},
     "output_type": "execute_result"
    }
   ],
   "source": [
    "accuracy_score(Y_true, Y_pred_classes)"
   ]
  },
  {
   "cell_type": "code",
   "execution_count": 63,
   "id": "42a19dd7",
   "metadata": {},
   "outputs": [
    {
     "data": {
      "text/plain": [
       "array([0.86642599, 0.9890625 , 0.88672566, 0.90983607, 0.81098546,\n",
       "       0.97333333, 0.69305331, 0.96018377, 0.98786828, 0.98046181])"
      ]
     },
     "execution_count": 63,
     "metadata": {},
     "output_type": "execute_result"
    }
   ],
   "source": [
    "np.max(confusion_mtx,axis=0)/np.sum(confusion_mtx,axis=0)"
   ]
  },
  {
   "cell_type": "markdown",
   "id": "2ce677b7",
   "metadata": {},
   "source": [
    "# Test Result"
   ]
  },
  {
   "cell_type": "code",
   "execution_count": 64,
   "id": "648e39a9",
   "metadata": {},
   "outputs": [
    {
     "data": {
      "image/png": "[encoded data removed]",
      "text/plain": [
       "<Figure size 576x576 with 2 Axes>"
      ]
     },
     "metadata": {
      "needs_background": "light"
     },
     "output_type": "display_data"
    }
   ],
   "source": [
    "Y_pred = model.predict(X_test)\n",
    "Y_pred_classes = np.argmax(Y_pred,axis = 1) \n",
    "Y_true = np.argmax(Y_test,axis = 1) \n",
    "confusion_mtx = confusion_matrix(Y_true, Y_pred_classes) \n",
    "\n",
    "f,ax = plt.subplots(figsize=(8, 8))\n",
    "sns.heatmap(confusion_mtx, annot=True, linewidths=0.01,cmap=\"Greens\",linecolor=\"gray\", fmt= '.1f',ax=ax)\n",
    "plt.xlabel(\"Predicted Label\")\n",
    "plt.ylabel(\"True Label\")\n",
    "plt.title(\"Test Confusion Matrix\")\n",
    "plt.show()"
   ]
  },
  {
   "cell_type": "code",
   "execution_count": 65,
   "id": "246bda81",
   "metadata": {},
   "outputs": [
    {
     "data": {
      "text/plain": [
       "0.9066"
      ]
     },
     "execution_count": 65,
     "metadata": {},
     "output_type": "execute_result"
    }
   ],
   "source": [
    "accuracy_score(Y_true, Y_pred_classes)"
   ]
  },
  {
   "cell_type": "code",
   "execution_count": 66,
   "id": "7f5ac1fc",
   "metadata": {},
   "outputs": [
    {
     "data": {
      "text/plain": [
       "array([0.86536485, 0.98504487, 0.89266156, 0.91470588, 0.85326633,\n",
       "       0.98288016, 0.69160584, 0.94575937, 0.98697395, 0.96582915])"
      ]
     },
     "execution_count": 66,
     "metadata": {},
     "output_type": "execute_result"
    }
   ],
   "source": [
    "np.max(confusion_mtx,axis=0)/np.sum(confusion_mtx,axis=0)"
   ]
  },
  {
   "cell_type": "code",
   "execution_count": null,
   "id": "3ef0c47f",
   "metadata": {},
   "outputs": [],
   "source": []
  }
 ],
 "metadata": {
  "kernelspec": {
   "display_name": "Python 3 (ipykernel)",
   "language": "python",
   "name": "python3"
  },
  "language_info": {
   "codemirror_mode": {
    "name": "ipython",
    "version": 3
   },
   "file_extension": ".py",
   "mimetype": "text/x-python",
   "name": "python",
   "nbconvert_exporter": "python",
   "pygments_lexer": "ipython3",
   "version": "3.9.7"
  }
 },
 "nbformat": 4,
 "nbformat_minor": 5
}
