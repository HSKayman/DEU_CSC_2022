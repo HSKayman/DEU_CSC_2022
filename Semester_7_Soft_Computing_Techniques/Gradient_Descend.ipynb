{
 "cells": [
  {
   "cell_type": "code",
   "execution_count": 2,
   "metadata": {},
   "outputs": [],
   "source": [
    "def func(x):\n",
    "    return (x-2)**2\n",
    "def func_t(x):#turev\n",
    "    return 2*x-4"
   ]
  },
  {
   "cell_type": "code",
   "execution_count": 5,
   "metadata": {},
   "outputs": [],
   "source": [
    "def gradient_descend(x,learning_rate,step):\n",
    "        if type(x)==type(619):\n",
    "            for i in range(step):\n",
    "                x=x-(learning_rate)*func_t(x)\n",
    "        else:\n",
    "            for i in range(step):\n",
    "                y=[]\n",
    "                for j in x:\n",
    "                    y.append(j-(learning_rate)*func_t(j))\n",
    "                x=y.copy()\n",
    "        return x,func_t(x)"
   ]
  },
  {
   "cell_type": "code",
   "execution_count": 8,
   "metadata": {},
   "outputs": [
    {
     "data": {
      "text/plain": [
       "(1.9999999999999947, -1.0658141036401503e-14)"
      ]
     },
     "execution_count": 8,
     "metadata": {},
     "output_type": "execute_result"
    }
   ],
   "source": [
    "gradient_descend(0,0.01,10000)"
   ]
  },
  {
   "cell_type": "code",
   "execution_count": null,
   "metadata": {},
   "outputs": [],
   "source": []
  }
 ],
 "metadata": {
  "kernelspec": {
   "display_name": "Python 3",
   "language": "python",
   "name": "python3"
  },
  "language_info": {
   "codemirror_mode": {
    "name": "ipython",
    "version": 3
   },
   "file_extension": ".py",
   "mimetype": "text/x-python",
   "name": "python",
   "nbconvert_exporter": "python",
   "pygments_lexer": "ipython3",
   "version": "3.8.5"
  }
 },
 "nbformat": 4,
 "nbformat_minor": 4
}
