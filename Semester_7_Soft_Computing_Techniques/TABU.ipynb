{
 "cells": [
  {
   "cell_type": "code",
   "execution_count": 6,
   "metadata": {},
   "outputs": [
    {
     "data": {
      "text/plain": [
       "array([[180,  10,  96, 146],\n",
       "       [138,  28, 166, 172],\n",
       "       [114, 186,   4, 158],\n",
       "       [ 14, 154, 150,  46]], dtype=int64)"
      ]
     },
     "execution_count": 6,
     "metadata": {},
     "output_type": "execute_result"
    }
   ],
   "source": [
    "import pandas as pd\n",
    "import numpy as np\n",
    "import random\n",
    "df=pd.read_csv('Data.csv',header=None)\n",
    "a=df.values\n",
    "a"
   ]
  },
  {
   "cell_type": "code",
   "execution_count": 7,
   "metadata": {},
   "outputs": [],
   "source": [
    "lenght=len(a)\n",
    "Defining_Start=[i for i in range(lenght)]\n",
    "iteration=5"
   ]
  },
  {
   "cell_type": "code",
   "execution_count": 8,
   "metadata": {},
   "outputs": [
    {
     "name": "stdout",
     "output_type": "stream",
     "text": [
      "192 [3, 1, 2, 0]\n"
     ]
    }
   ],
   "source": [
    "i=0\n",
    "opt=999999#-\n",
    "Tabu=[]\n",
    "Best=[]\n",
    "while i< iteration:#iteration\n",
    "    j=1\n",
    "    if not i==0:\n",
    "        Defining_Start=Best.copy()\n",
    "    while j<lenght:#random swap\n",
    "        sumi=0\n",
    "        k=0\n",
    "        Defining=Defining_Start.copy()\n",
    "        Defining[0],Defining[j]=Defining[j],Defining[0]\n",
    "        while k<lenght:#compute costing\n",
    "            sumi+=a[k][Defining[k]]  \n",
    "            k+=1\n",
    "        j+=1\n",
    "        if opt>sumi:#-\n",
    "            opt=sumi\n",
    "            Best=Defining.copy()\n",
    "    \n",
    "    i+=1\n",
    "print(opt,Best)#DBCA"
   ]
  },
  {
   "cell_type": "code",
   "execution_count": null,
   "metadata": {},
   "outputs": [],
   "source": []
  }
 ],
 "metadata": {
  "kernelspec": {
   "display_name": "Python 3",
   "language": "python",
   "name": "python3"
  },
  "language_info": {
   "codemirror_mode": {
    "name": "ipython",
    "version": 3
   },
   "file_extension": ".py",
   "mimetype": "text/x-python",
   "name": "python",
   "nbconvert_exporter": "python",
   "pygments_lexer": "ipython3",
   "version": "3.8.5"
  }
 },
 "nbformat": 4,
 "nbformat_minor": 4
}
