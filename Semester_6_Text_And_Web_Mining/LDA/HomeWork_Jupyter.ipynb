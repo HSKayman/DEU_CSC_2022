{
 "cells": [
  {
   "cell_type": "code",
   "execution_count": 11,
   "metadata": {},
   "outputs": [
    {
     "name": "stderr",
     "output_type": "stream",
     "text": [
      "[nltk_data] Downloading package stopwords to\n",
      "[nltk_data]     C:\\Users\\suca\\AppData\\Roaming\\nltk_data...\n",
      "[nltk_data]   Package stopwords is already up-to-date!\n",
      "[nltk_data] Downloading package punkt to\n",
      "[nltk_data]     C:\\Users\\suca\\AppData\\Roaming\\nltk_data...\n",
      "[nltk_data]   Package punkt is already up-to-date!\n"
     ]
    }
   ],
   "source": [
    "import pandas as pd\n",
    "import nltk\n",
    "nltk.download(\"stopwords\")\n",
    "from nltk.corpus import stopwords\n",
    "nltk.download(\"punkt\")\n",
    "from snowballstemmer import TurkishStemmer\n",
    "from textblob import TextBlob\n",
    "from sklearn import model_selection, preprocessing, naive_bayes, metrics\n",
    "from sklearn.feature_extraction.text import TfidfVectorizer, CountVectorizer\n",
    "from sklearn import decomposition, ensemble\n",
    "import numpy, string\n",
    "\n",
    "\n",
    "# =============================================================================\n",
    "# Read Train Data\n",
    "# =============================================================================\n",
    "index_names=[]\n",
    "RawDataFrame=[]\n",
    "for i in [i for i in range(1,751) if i<451 or i>600]:\n",
    "    file = open(\"train/{}.txt\".format(i), \"r\", encoding='iso8859-9')#turkishcode\n",
    "    index_names.append(\"{}.txt\".format(i))\n",
    "    filetext=file.read()\n",
    "    file.close()\n",
    "    RawDataFrame.append(filetext)\n",
    "\n",
    "# =============================================================================\n",
    "# Read Test Data\n",
    "# =============================================================================\n",
    "for i in [i for i in range(1,401) if i<241 or i>320]:\n",
    "    file = open(\"test/testdat {}.txt\".format(i), \"r\", encoding='iso8859-9')#turkishcode\n",
    "    index_names.append(\"testdat {}.txt\".format(i))\n",
    "    filetext=file.read()\n",
    "    file.close()\n",
    "    RawDataFrame.append(filetext)\n",
    "    \n",
    "# =============================================================================\n",
    "# Convert Data Structer which i want style\n",
    "# =============================================================================\n",
    "df=pd.Series(RawDataFrame)\n",
    "\n",
    "# =============================================================================\n",
    "# Cleaning about lowercase and punction and number\n",
    "# =============================================================================\n",
    "df=df.apply(lambda x: \" \".join(x.lower() for x in x.split()))\n",
    "df=df.replace('[^\\w\\s]','',regex=True)#regex\n",
    "df=df.replace('\\d+','',regex=True)#regex\n",
    "\n",
    "# =============================================================================\n",
    "# Cleaning StopWords\n",
    "# =============================================================================\n",
    "sw = stopwords.words(\"turkish\")\n",
    "df=df.apply(lambda x: \" \".join(x for x in x.split() if x not in sw))\n",
    "\n",
    "# =============================================================================\n",
    "# If its frequency is 1 inside all data, it be requed to remove because of Feature Selection \n",
    "# =============================================================================\n",
    "\n",
    "#pd.Series(\" \".join(df[\"News\"]).split()).value_counts()\n",
    "\n",
    "# =============================================================================\n",
    "# Tokenizing\n",
    "# =============================================================================\n",
    "df=df.apply(lambda x: TextBlob(x).words)\n",
    "\n",
    "# =============================================================================\n",
    "# Stemming\n",
    "# =============================================================================\n",
    "stemmer = TurkishStemmer()\n",
    "df=df.apply(lambda x: \" \".join(stemmer.stemWord(word) for word in x))\n",
    "\n",
    "# =============================================================================\n",
    "# AddingClass   0 ekonomi     1 magazin     2 saglik     3 spor\n",
    "# =============================================================================\n",
    "Category=[\"ekonomi\" for i in range(150)]\n",
    "Category.extend([\"magazin\" for i in range(150)])\n",
    "Category.extend([\"saglik\" for i in range(150)])\n",
    "Category.extend([\"spor\" for i in range(150)])\n",
    "Category.extend([\"ekonomi\" for i in range(80)])\n",
    "Category.extend([\"magazin\" for i in range(80)])\n",
    "Category.extend([\"saglik\" for i in range(80)])\n",
    "Category.extend([\"spor\" for i in range(80)])\n",
    "\n",
    "dframe=pd.DataFrame(df,columns=[\"News\"])\n",
    "dframe=dframe.assign(category=Category)"
   ]
  },
  {
   "cell_type": "code",
   "execution_count": 12,
   "metadata": {},
   "outputs": [],
   "source": [
    "train_x,train_y,test_x,test_y=dframe.iloc[:600,[0]].values.ravel(),dframe.iloc[:600,[1]].values.ravel(),dframe.iloc[600:,[0]].values.ravel(),dframe.iloc[600:,[1]].values.ravel()\n",
    "encoder = preprocessing.LabelEncoder() #Prepare Encoder\n",
    "train_y = encoder.fit_transform(train_y)\n",
    "test_y = encoder.fit_transform(test_y)\n"
   ]
  },
  {
   "cell_type": "markdown",
   "metadata": {},
   "source": [
    "## WORDLEWEL"
   ]
  },
  {
   "cell_type": "code",
   "execution_count": 13,
   "metadata": {},
   "outputs": [],
   "source": [
    "tfidf_vectorizer=TfidfVectorizer()\n",
    "tfidf_vectorizer.fit(train_x)\n",
    "x_train_tfidf= tfidf_vectorizer.transform(train_x)\n",
    "x_test_tfidf = tfidf_vectorizer.transform(test_x)\n",
    "\n",
    "\n",
    "#tfidf_df=pd.DataFrame(x_train_tfidf.toarray())\n",
    "#tfidf_df.insert(0, 'News_Number', index_names)\n",
    "#tfidf_df[\"Sinif\"]=dframe.iloc[:600,[1]].values.ravel()\n",
    "\n",
    "#tfidf_df.to_csv(\"Result.txt\")"
   ]
  },
  {
   "cell_type": "markdown",
   "metadata": {},
   "source": [
    "## Bayes"
   ]
  },
  {
   "cell_type": "code",
   "execution_count": 15,
   "metadata": {},
   "outputs": [
    {
     "name": "stdout",
     "output_type": "stream",
     "text": [
      "Doğruluk Oranı: 0.98125\n"
     ]
    }
   ],
   "source": [
    "nb = naive_bayes.MultinomialNB()\n",
    "nb_model = nb.fit(x_train_tfidf,train_y)\n",
    "accuracy = model_selection.cross_val_score(nb_model, \n",
    "                                           x_test_tfidf, \n",
    "                                           test_y, \n",
    "                                           cv = 10).mean()\n",
    "\n",
    "print(\"Doğruluk Oranı:\", accuracy)"
   ]
  },
  {
   "cell_type": "code",
   "execution_count": 16,
   "metadata": {},
   "outputs": [
    {
     "data": {
      "text/html": [
       "<div>\n",
       "<style scoped>\n",
       "    .dataframe tbody tr th:only-of-type {\n",
       "        vertical-align: middle;\n",
       "    }\n",
       "\n",
       "    .dataframe tbody tr th {\n",
       "        vertical-align: top;\n",
       "    }\n",
       "\n",
       "    .dataframe thead th {\n",
       "        text-align: right;\n",
       "    }\n",
       "</style>\n",
       "<table border=\"1\" class=\"dataframe\">\n",
       "  <thead>\n",
       "    <tr style=\"text-align: right;\">\n",
       "      <th></th>\n",
       "      <th></th>\n",
       "      <th>Ekonomi</th>\n",
       "      <th>Magazin</th>\n",
       "      <th>Saglik</th>\n",
       "      <th>Spor</th>\n",
       "      <th>Average</th>\n",
       "    </tr>\n",
       "  </thead>\n",
       "  <tbody>\n",
       "    <tr>\n",
       "      <th>0</th>\n",
       "      <td>Precision</td>\n",
       "      <td>1.000000</td>\n",
       "      <td>0.962500</td>\n",
       "      <td>0.962500</td>\n",
       "      <td>0.9875</td>\n",
       "      <td>0.978125</td>\n",
       "    </tr>\n",
       "    <tr>\n",
       "      <th>1</th>\n",
       "      <td>Recall</td>\n",
       "      <td>0.952381</td>\n",
       "      <td>1.000000</td>\n",
       "      <td>0.974684</td>\n",
       "      <td>0.9875</td>\n",
       "      <td>0.978641</td>\n",
       "    </tr>\n",
       "    <tr>\n",
       "      <th>2</th>\n",
       "      <td>Fbeta_Score</td>\n",
       "      <td>0.975610</td>\n",
       "      <td>0.980892</td>\n",
       "      <td>0.968553</td>\n",
       "      <td>0.9875</td>\n",
       "      <td>0.978139</td>\n",
       "    </tr>\n",
       "    <tr>\n",
       "      <th>3</th>\n",
       "      <td>Support</td>\n",
       "      <td>84.000000</td>\n",
       "      <td>77.000000</td>\n",
       "      <td>79.000000</td>\n",
       "      <td>80.0000</td>\n",
       "      <td>80.000000</td>\n",
       "    </tr>\n",
       "  </tbody>\n",
       "</table>\n",
       "</div>"
      ],
      "text/plain": [
       "                  Ekonomi    Magazin     Saglik     Spor    Average\n",
       "0    Precision   1.000000   0.962500   0.962500   0.9875   0.978125\n",
       "1       Recall   0.952381   1.000000   0.974684   0.9875   0.978641\n",
       "2  Fbeta_Score   0.975610   0.980892   0.968553   0.9875   0.978139\n",
       "3      Support  84.000000  77.000000  79.000000  80.0000  80.000000"
      ]
     },
     "execution_count": 16,
     "metadata": {},
     "output_type": "execute_result"
    }
   ],
   "source": [
    "Results=pd.DataFrame(metrics.precision_recall_fscore_support(nb_model.predict(x_test_tfidf.toarray()),test_y),columns=['Ekonomi','Magazin','Saglik','Spor'])\n",
    "Results[\"Average\"]=Results.mean(axis=1)\n",
    "Results.insert(0, ' ', ['Precision','Recall','Fbeta_Score','Support'])\n",
    "Results"
   ]
  },
  {
   "cell_type": "markdown",
   "metadata": {},
   "source": [
    "# #KNN"
   ]
  },
  {
   "cell_type": "code",
   "execution_count": 19,
   "metadata": {},
   "outputs": [
    {
     "name": "stdout",
     "output_type": "stream",
     "text": [
      "Doğruluk Oranı: 0.95\n"
     ]
    }
   ],
   "source": [
    "from sklearn.neighbors import KNeighborsClassifier as knn\n",
    "knn = knn()\n",
    "knn_model = knn.fit(x_train_tfidf,train_y)\n",
    "accuracy = model_selection.cross_val_score(knn_model, \n",
    "                                           x_test_tfidf, \n",
    "                                           test_y, \n",
    "                                           cv = 10).mean()\n",
    "\n",
    "print(\"Doğruluk Oranı:\", accuracy)# DAha Dusuk"
   ]
  },
  {
   "cell_type": "code",
   "execution_count": null,
   "metadata": {},
   "outputs": [],
   "source": []
  }
 ],
 "metadata": {
  "kernelspec": {
   "display_name": "Python 3",
   "language": "python",
   "name": "python3"
  },
  "language_info": {
   "codemirror_mode": {
    "name": "ipython",
    "version": 3
   },
   "file_extension": ".py",
   "mimetype": "text/x-python",
   "name": "python",
   "nbconvert_exporter": "python",
   "pygments_lexer": "ipython3",
   "version": "3.8.5"
  }
 },
 "nbformat": 4,
 "nbformat_minor": 4
}
