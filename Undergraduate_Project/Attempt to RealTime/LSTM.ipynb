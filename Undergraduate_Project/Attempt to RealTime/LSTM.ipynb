{
 "cells": [
  {
   "cell_type": "code",
   "execution_count": 1,
   "metadata": {},
   "outputs": [],
   "source": [
    "from numpy import array\n",
    "from keras.models import Sequential\n",
    "from keras.layers import LSTM\n",
    "from keras.layers import Dense\n",
    "from keras.layers import Bidirectional\n",
    "from keras.layers import Flatten\n",
    "from keras.layers import TimeDistributed\n",
    "from keras.layers.convolutional import Conv1D\n",
    "from keras.layers.convolutional import MaxPooling1D\n",
    "from keras.layers import ConvLSTM2D\n",
    "from keras.layers import BatchNormalization\n",
    "from keras.layers import RepeatVector\n",
    "from keras.layers import Dropout\n",
    "from numpy import hstack\n",
    "import numpy as np\n",
    "import pandas as pd\n",
    "import matplotlib.pyplot as plt\n",
    "from sklearn.preprocessing import MinMaxScaler\n",
    "import cryptowatch as cw"
   ]
  },
  {
   "cell_type": "code",
   "execution_count": 2,
   "metadata": {},
   "outputs": [],
   "source": [
    "def augmento_sent(symbol):\n",
    "    dataset= pd.read_csv('augmento_{}.csv'.format(symbol))\n",
    "    col=dataset.columns\n",
    "    #Choosen Bad&Good\n",
    "    imp_col_index_good=[40,41,93,25,75]\n",
    "    imp_col_index_bad=[28,16,3,55,16,8,75,56,87]\n",
    "    #Timestamp\n",
    "    icolindex_good=[0]\n",
    "    icolindex_bad=[0]\n",
    "    #Extend counting of good \n",
    "    icolindex_good.extend([i for i in imp_col_index_good])\n",
    "    icolindex_good.extend([i+93 for i in imp_col_index_good])\n",
    "    icolindex_good.extend([i+93*2 for i in imp_col_index_good]) \n",
    "    #Extend counting of bad\n",
    "    icolindex_bad.extend([i for i in imp_col_index_bad])\n",
    "    icolindex_bad.extend([i+93 for i in imp_col_index_bad])\n",
    "    icolindex_bad.extend([i+93*2 for i in imp_col_index_bad])\n",
    "    #date \n",
    "    dataset_good=dataset.loc[:,col[icolindex_good]]\n",
    "    dataset_bad=dataset.loc[:,col[icolindex_bad]]\n",
    "    #time to date\n",
    "    dataset_good['date']=pd.to_datetime(dataset_good['date']).dt.date\n",
    "    dataset_bad['date']=pd.to_datetime(dataset_bad['date']).dt.date\n",
    "    #sum arrange\n",
    "    dataset_good=dataset_good.groupby('date').sum().sum(axis=1)\n",
    "    dataset_bad=dataset_bad.groupby('date').sum().sum(axis=1)\n",
    "    dataset= pd.concat([dataset_good,dataset_bad],axis=1)\n",
    "    #create new dataset\n",
    "    dataset=dataset.rename(columns={0:'pos',1:'neg'})\n",
    "    dataset['sentiment']=(dataset['pos']-dataset['neg'])*(dataset['pos']+dataset['neg'])\n",
    "    return dataset['sentiment']\n",
    "\n",
    "def daily_coin(symbol):\n",
    "    dataset= pd.read_csv('{}_daily.csv'.format(symbol))\n",
    "    dataset['timestamp']=pd.date_range(start=\"2016-11-04\",end=\"2022-01-18\")\n",
    "    dataset.index=dataset['timestamp']\n",
    "    return dataset"
   ]
  },
  {
   "cell_type": "code",
   "execution_count": 3,
   "metadata": {},
   "outputs": [],
   "source": [
    "def calc_rsi(dataset):\n",
    "    dataset = pd.DataFrame(dataset,columns=[\"open\",\"high\",\"low\",\"close\"])\n",
    "    coin_rsi=dataset.copy()\n",
    "    data=coin_rsi.copy()\n",
    "    a=coin_rsi.columns[3]\n",
    "    coin_rsi.drop(coin_rsi.columns.difference([a]), 1, inplace=True)\n",
    "    coin_rsi=coin_rsi.reset_index(drop=True,inplace=False)\n",
    "    coin_rsi[\"diff\"]=coin_rsi.diff(1)\n",
    "\n",
    "    coin_rsi['gain'] = coin_rsi['diff'].clip(lower=0).round(2)\n",
    "    coin_rsi['loss'] = coin_rsi['diff'].clip(upper=0).abs().round(2)\n",
    "    coin_rsi\n",
    "\n",
    "    window_length=14\n",
    "    # Get initial Averages\n",
    "    coin_rsi['avg_gain'] = coin_rsi['gain'].rolling(window=window_length, min_periods=window_length).mean()[:window_length+1]\n",
    "    coin_rsi['avg_loss'] = coin_rsi['loss'].rolling(window=window_length, min_periods=window_length).mean()[:window_length+1]\n",
    "    # View Result\n",
    "\n",
    "    # View first SMA value\n",
    "\n",
    "    for i, row in enumerate(coin_rsi['avg_gain'].iloc[window_length+1:]):\n",
    "        coin_rsi['avg_gain'].iloc[i + window_length + 1] =\\\n",
    "          (coin_rsi['avg_gain'].iloc[i + window_length] *\n",
    "          (window_length - 1) +\n",
    "          coin_rsi['gain'].iloc[i + window_length + 1])\\\n",
    "          / window_length\n",
    "    # Average Losses\n",
    "    for i, row in enumerate(coin_rsi['avg_loss'].iloc[window_length+1:]):\n",
    "        coin_rsi['avg_loss'].iloc[i + window_length + 1] =\\\n",
    "          (coin_rsi['avg_loss'].iloc[i + window_length] *\n",
    "          (window_length - 1) +\n",
    "          coin_rsi['loss'].iloc[i + window_length + 1])\\\n",
    "          / window_length\n",
    "    # View initial results\n",
    "\n",
    "    coin_rsi['rs'] = coin_rsi['avg_gain'] / coin_rsi['avg_loss']\n",
    "    coin_rsi['rsi'] = 100 - (100 / (1.0 + coin_rsi['rs']))\n",
    "\n",
    "    # View Result\n",
    "\n",
    "    return coin_rsi[\"rsi\"]"
   ]
  },
  {
   "cell_type": "code",
   "execution_count": 4,
   "metadata": {},
   "outputs": [],
   "source": [
    "Sentiment_btc=augmento_sent(\"btc\")\n",
    "Sentiment_eth=augmento_sent(\"eth\")"
   ]
  },
  {
   "cell_type": "code",
   "execution_count": 5,
   "metadata": {},
   "outputs": [],
   "source": [
    "btc_price=daily_coin('btc')\n",
    "eth_price=daily_coin('eth')"
   ]
  },
  {
   "cell_type": "code",
   "execution_count": 6,
   "metadata": {},
   "outputs": [],
   "source": [
    "btc_rsi=calc_rsi(btc_price)\n",
    "btc_rsi.index=btc_price['timestamp']\n",
    "btc_price['rsi']=btc_rsi\n",
    "eth_rsi=calc_rsi(eth_price)\n",
    "eth_rsi.index=eth_price['timestamp']\n",
    "eth_price['rsi']=eth_rsi"
   ]
  },
  {
   "cell_type": "code",
   "execution_count": 7,
   "metadata": {},
   "outputs": [
    {
     "name": "stderr",
     "output_type": "stream",
     "text": [
      "<ipython-input-7-f02d08f5d4dd>:1: SettingWithCopyWarning: \n",
      "A value is trying to be set on a copy of a slice from a DataFrame\n",
      "\n",
      "See the caveats in the documentation: https://pandas.pydata.org/pandas-docs/stable/user_guide/indexing.html#returning-a-view-versus-a-copy\n",
      "  eth_price[\"rsi\"][eth_price[\"rsi\"].isnull()]=0\n",
      "<ipython-input-7-f02d08f5d4dd>:2: SettingWithCopyWarning: \n",
      "A value is trying to be set on a copy of a slice from a DataFrame\n",
      "\n",
      "See the caveats in the documentation: https://pandas.pydata.org/pandas-docs/stable/user_guide/indexing.html#returning-a-view-versus-a-copy\n",
      "  btc_price[\"rsi\"][btc_price[\"rsi\"].isnull()]=0\n"
     ]
    }
   ],
   "source": [
    "eth_price[\"rsi\"][eth_price[\"rsi\"].isnull()]=0\n",
    "btc_price[\"rsi\"][btc_price[\"rsi\"].isnull()]=0"
   ]
  },
  {
   "cell_type": "code",
   "execution_count": 8,
   "metadata": {},
   "outputs": [],
   "source": [
    "eth_dataset= pd.concat([Sentiment_eth,eth_price],axis=1)\n",
    "eth_dataset=eth_dataset.dropna()\n",
    "eth_dataset=eth_dataset.reset_index(drop=True)\n",
    "eth_dataset=eth_dataset[['rsi','open','high','low','close']]#[['pos','neg','sentiment','open','high','low','close']]"
   ]
  },
  {
   "cell_type": "code",
   "execution_count": 9,
   "metadata": {},
   "outputs": [],
   "source": [
    "btc_dataset= pd.concat([Sentiment_btc,btc_price],axis=1)\n",
    "btc_dataset=btc_dataset.dropna()\n",
    "btc_dataset=btc_dataset.reset_index(drop=True)\n",
    "btc_dataset=btc_dataset[['rsi','open','high','low','close']]#[['pos','neg','sentiment','open','high','low','close']]"
   ]
  },
  {
   "cell_type": "code",
   "execution_count": 10,
   "metadata": {},
   "outputs": [
    {
     "data": {
      "text/html": [
       "<div>\n",
       "<style scoped>\n",
       "    .dataframe tbody tr th:only-of-type {\n",
       "        vertical-align: middle;\n",
       "    }\n",
       "\n",
       "    .dataframe tbody tr th {\n",
       "        vertical-align: top;\n",
       "    }\n",
       "\n",
       "    .dataframe thead th {\n",
       "        text-align: right;\n",
       "    }\n",
       "</style>\n",
       "<table border=\"1\" class=\"dataframe\">\n",
       "  <thead>\n",
       "    <tr style=\"text-align: right;\">\n",
       "      <th></th>\n",
       "      <th>rsi</th>\n",
       "      <th>open</th>\n",
       "      <th>high</th>\n",
       "      <th>low</th>\n",
       "      <th>close</th>\n",
       "    </tr>\n",
       "  </thead>\n",
       "  <tbody>\n",
       "    <tr>\n",
       "      <th>0</th>\n",
       "      <td>0.000000</td>\n",
       "      <td>689.509491</td>\n",
       "      <td>709.126580</td>\n",
       "      <td>683.607847</td>\n",
       "      <td>704.062564</td>\n",
       "    </tr>\n",
       "    <tr>\n",
       "      <th>1</th>\n",
       "      <td>0.000000</td>\n",
       "      <td>706.525747</td>\n",
       "      <td>711.970714</td>\n",
       "      <td>688.419083</td>\n",
       "      <td>705.317849</td>\n",
       "    </tr>\n",
       "    <tr>\n",
       "      <th>2</th>\n",
       "      <td>0.000000</td>\n",
       "      <td>705.218603</td>\n",
       "      <td>727.649078</td>\n",
       "      <td>698.696389</td>\n",
       "      <td>714.088571</td>\n",
       "    </tr>\n",
       "    <tr>\n",
       "      <th>3</th>\n",
       "      <td>0.000000</td>\n",
       "      <td>714.304753</td>\n",
       "      <td>717.923857</td>\n",
       "      <td>692.294478</td>\n",
       "      <td>700.064307</td>\n",
       "    </tr>\n",
       "    <tr>\n",
       "      <th>4</th>\n",
       "      <td>0.000000</td>\n",
       "      <td>704.857515</td>\n",
       "      <td>715.910096</td>\n",
       "      <td>694.852902</td>\n",
       "      <td>712.547405</td>\n",
       "    </tr>\n",
       "    <tr>\n",
       "      <th>...</th>\n",
       "      <td>...</td>\n",
       "      <td>...</td>\n",
       "      <td>...</td>\n",
       "      <td>...</td>\n",
       "      <td>...</td>\n",
       "    </tr>\n",
       "    <tr>\n",
       "      <th>1897</th>\n",
       "      <td>39.537047</td>\n",
       "      <td>42551.920860</td>\n",
       "      <td>43473.451290</td>\n",
       "      <td>41747.421360</td>\n",
       "      <td>43085.569720</td>\n",
       "    </tr>\n",
       "    <tr>\n",
       "      <th>1898</th>\n",
       "      <td>39.587058</td>\n",
       "      <td>43086.525530</td>\n",
       "      <td>43818.194650</td>\n",
       "      <td>42575.566830</td>\n",
       "      <td>43095.616600</td>\n",
       "    </tr>\n",
       "    <tr>\n",
       "      <th>1899</th>\n",
       "      <td>39.582708</td>\n",
       "      <td>43109.999780</td>\n",
       "      <td>43494.501220</td>\n",
       "      <td>42601.490020</td>\n",
       "      <td>43094.373970</td>\n",
       "    </tr>\n",
       "    <tr>\n",
       "      <th>1900</th>\n",
       "      <td>36.537277</td>\n",
       "      <td>43092.255750</td>\n",
       "      <td>43198.463160</td>\n",
       "      <td>41561.645930</td>\n",
       "      <td>42221.051690</td>\n",
       "    </tr>\n",
       "    <tr>\n",
       "      <th>1901</th>\n",
       "      <td>37.434787</td>\n",
       "      <td>42241.369500</td>\n",
       "      <td>42700.908240</td>\n",
       "      <td>41292.370850</td>\n",
       "      <td>42372.247010</td>\n",
       "    </tr>\n",
       "  </tbody>\n",
       "</table>\n",
       "<p>1902 rows × 5 columns</p>\n",
       "</div>"
      ],
      "text/plain": [
       "            rsi          open          high           low         close\n",
       "0      0.000000    689.509491    709.126580    683.607847    704.062564\n",
       "1      0.000000    706.525747    711.970714    688.419083    705.317849\n",
       "2      0.000000    705.218603    727.649078    698.696389    714.088571\n",
       "3      0.000000    714.304753    717.923857    692.294478    700.064307\n",
       "4      0.000000    704.857515    715.910096    694.852902    712.547405\n",
       "...         ...           ...           ...           ...           ...\n",
       "1897  39.537047  42551.920860  43473.451290  41747.421360  43085.569720\n",
       "1898  39.587058  43086.525530  43818.194650  42575.566830  43095.616600\n",
       "1899  39.582708  43109.999780  43494.501220  42601.490020  43094.373970\n",
       "1900  36.537277  43092.255750  43198.463160  41561.645930  42221.051690\n",
       "1901  37.434787  42241.369500  42700.908240  41292.370850  42372.247010\n",
       "\n",
       "[1902 rows x 5 columns]"
      ]
     },
     "execution_count": 10,
     "metadata": {},
     "output_type": "execute_result"
    }
   ],
   "source": [
    "btc_dataset"
   ]
  },
  {
   "cell_type": "code",
   "execution_count": 11,
   "metadata": {},
   "outputs": [
    {
     "data": {
      "text/html": [
       "<div>\n",
       "<style scoped>\n",
       "    .dataframe tbody tr th:only-of-type {\n",
       "        vertical-align: middle;\n",
       "    }\n",
       "\n",
       "    .dataframe tbody tr th {\n",
       "        vertical-align: top;\n",
       "    }\n",
       "\n",
       "    .dataframe thead th {\n",
       "        text-align: right;\n",
       "    }\n",
       "</style>\n",
       "<table border=\"1\" class=\"dataframe\">\n",
       "  <thead>\n",
       "    <tr style=\"text-align: right;\">\n",
       "      <th></th>\n",
       "      <th>rsi</th>\n",
       "      <th>open</th>\n",
       "      <th>high</th>\n",
       "      <th>low</th>\n",
       "      <th>close</th>\n",
       "    </tr>\n",
       "  </thead>\n",
       "  <tbody>\n",
       "    <tr>\n",
       "      <th>0</th>\n",
       "      <td>0.000000</td>\n",
       "      <td>10.842009</td>\n",
       "      <td>11.215637</td>\n",
       "      <td>10.744287</td>\n",
       "      <td>11.202714</td>\n",
       "    </tr>\n",
       "    <tr>\n",
       "      <th>1</th>\n",
       "      <td>0.000000</td>\n",
       "      <td>11.149229</td>\n",
       "      <td>11.232777</td>\n",
       "      <td>10.772639</td>\n",
       "      <td>11.127560</td>\n",
       "    </tr>\n",
       "    <tr>\n",
       "      <th>2</th>\n",
       "      <td>0.000000</td>\n",
       "      <td>11.120714</td>\n",
       "      <td>11.334937</td>\n",
       "      <td>10.850349</td>\n",
       "      <td>10.928217</td>\n",
       "    </tr>\n",
       "    <tr>\n",
       "      <th>3</th>\n",
       "      <td>0.000000</td>\n",
       "      <td>10.996574</td>\n",
       "      <td>11.140000</td>\n",
       "      <td>10.638606</td>\n",
       "      <td>10.929104</td>\n",
       "    </tr>\n",
       "    <tr>\n",
       "      <th>4</th>\n",
       "      <td>0.000000</td>\n",
       "      <td>10.910079</td>\n",
       "      <td>11.211000</td>\n",
       "      <td>10.723212</td>\n",
       "      <td>10.856283</td>\n",
       "    </tr>\n",
       "    <tr>\n",
       "      <th>...</th>\n",
       "      <td>...</td>\n",
       "      <td>...</td>\n",
       "      <td>...</td>\n",
       "      <td>...</td>\n",
       "      <td>...</td>\n",
       "    </tr>\n",
       "    <tr>\n",
       "      <th>1897</th>\n",
       "      <td>40.551543</td>\n",
       "      <td>3239.772682</td>\n",
       "      <td>3344.659990</td>\n",
       "      <td>3189.507406</td>\n",
       "      <td>3309.548034</td>\n",
       "    </tr>\n",
       "    <tr>\n",
       "      <th>1898</th>\n",
       "      <td>41.284706</td>\n",
       "      <td>3309.601722</td>\n",
       "      <td>3373.669878</td>\n",
       "      <td>3262.423862</td>\n",
       "      <td>3327.493118</td>\n",
       "    </tr>\n",
       "    <tr>\n",
       "      <th>1899</th>\n",
       "      <td>42.191919</td>\n",
       "      <td>3328.462037</td>\n",
       "      <td>3394.339589</td>\n",
       "      <td>3273.415898</td>\n",
       "      <td>3348.706159</td>\n",
       "    </tr>\n",
       "    <tr>\n",
       "      <th>1900</th>\n",
       "      <td>38.078660</td>\n",
       "      <td>3348.794862</td>\n",
       "      <td>3359.161081</td>\n",
       "      <td>3142.430999</td>\n",
       "      <td>3211.012028</td>\n",
       "    </tr>\n",
       "    <tr>\n",
       "      <th>1901</th>\n",
       "      <td>36.691548</td>\n",
       "      <td>3211.693648</td>\n",
       "      <td>3245.400974</td>\n",
       "      <td>3083.544852</td>\n",
       "      <td>3161.434639</td>\n",
       "    </tr>\n",
       "  </tbody>\n",
       "</table>\n",
       "<p>1902 rows × 5 columns</p>\n",
       "</div>"
      ],
      "text/plain": [
       "            rsi         open         high          low        close\n",
       "0      0.000000    10.842009    11.215637    10.744287    11.202714\n",
       "1      0.000000    11.149229    11.232777    10.772639    11.127560\n",
       "2      0.000000    11.120714    11.334937    10.850349    10.928217\n",
       "3      0.000000    10.996574    11.140000    10.638606    10.929104\n",
       "4      0.000000    10.910079    11.211000    10.723212    10.856283\n",
       "...         ...          ...          ...          ...          ...\n",
       "1897  40.551543  3239.772682  3344.659990  3189.507406  3309.548034\n",
       "1898  41.284706  3309.601722  3373.669878  3262.423862  3327.493118\n",
       "1899  42.191919  3328.462037  3394.339589  3273.415898  3348.706159\n",
       "1900  38.078660  3348.794862  3359.161081  3142.430999  3211.012028\n",
       "1901  36.691548  3211.693648  3245.400974  3083.544852  3161.434639\n",
       "\n",
       "[1902 rows x 5 columns]"
      ]
     },
     "execution_count": 11,
     "metadata": {},
     "output_type": "execute_result"
    }
   ],
   "source": [
    "eth_dataset"
   ]
  },
  {
   "cell_type": "code",
   "execution_count": 12,
   "metadata": {},
   "outputs": [],
   "source": [
    "# split a multivariate sequence into samples\n",
    "def split_sequences(sequences, n_steps):\n",
    "    X, y = list(), list()\n",
    "    for i in range(len(sequences)):\n",
    "        # find the end of this pattern\n",
    "        end_ix = i + n_steps\n",
    "        # check if we are beyond the dataset\n",
    "        if end_ix > len(sequences):\n",
    "            break\n",
    "        # gather input and output parts of the pattern\n",
    "        seq_x, seq_y = sequences[i:end_ix, :-1], sequences[end_ix-1, -1]\n",
    "        X.append(seq_x)\n",
    "        y.append(seq_y)\n",
    "    return array(X), array(y)"
   ]
  },
  {
   "cell_type": "code",
   "execution_count": 13,
   "metadata": {},
   "outputs": [],
   "source": [
    "def modelling(dataset):\n",
    "    # choose a number of time steps\n",
    "    n_steps = 3\n",
    "\n",
    "    # convert into input/output\n",
    "    #scaler = MinMaxScaler(feature_range=(0,1))\n",
    "    pre_dataset=dataset.values#scaler.fit_transform(np.array(dataset).reshape(-1,5))\n",
    "\n",
    "    X, y = split_sequences(pre_dataset[:1500,:], n_steps)\n",
    "    X_valid, y_valid = split_sequences(pre_dataset[1500:,:], n_steps)\n",
    "    # the dataset knows the number of features, e.g. 2\n",
    "    n_features = X.shape[2]\n",
    "    # define model\n",
    "    model = Sequential()\n",
    "    model.add(LSTM(200, activation='relu', input_shape=(n_steps, n_features)))#,return_sequences=True\n",
    "    #model.add(Dropout(0.4))\n",
    "    #model.add(BatchNormalization())\n",
    "    #model.add(LSTM(60, return_sequences=True, activation='relu'))\n",
    "    #model.add(Dropout(0.4))\n",
    "    #model.add(BatchNormalization())\n",
    "    #model.add(LSTM(32, activation='relu'))\n",
    "    #model.add(Dropout(0.2))\n",
    "    #model.add(BatchNormalization())\n",
    "    #model.add(Dense(20))\n",
    "    #model.add(Dropout(0.2))\n",
    "    model.add(Dense(1)) #activation=\"linear\"))\n",
    "\n",
    "    model.compile(optimizer='adam', loss='mse')\n",
    "    # fit model\n",
    "    history=model.fit(X, y,validation_data=(X_valid,y_valid), epochs=120)\n",
    "    return model,X,y,X_valid,y_valid"
   ]
  },
  {
   "cell_type": "code",
   "execution_count": 14,
   "metadata": {},
   "outputs": [
    {
     "name": "stdout",
     "output_type": "stream",
     "text": [
      "Epoch 1/120\n",
      "47/47 [==============================] - 4s 40ms/step - loss: 24930643.6458 - val_loss: 14494021.0000\n",
      "Epoch 2/120\n",
      "47/47 [==============================] - 0s 8ms/step - loss: 205989.1204 - val_loss: 4103807.0000\n",
      "Epoch 3/120\n",
      "47/47 [==============================] - 0s 7ms/step - loss: 142042.7825 - val_loss: 3865486.5000\n",
      "Epoch 4/120\n",
      "47/47 [==============================] - 0s 8ms/step - loss: 154806.4263 - val_loss: 3766577.0000\n",
      "Epoch 5/120\n",
      "47/47 [==============================] - 0s 10ms/step - loss: 167312.5169 - val_loss: 3712287.7500\n",
      "Epoch 6/120\n",
      "47/47 [==============================] - 0s 8ms/step - loss: 160354.6353 - val_loss: 3612835.0000\n",
      "Epoch 7/120\n",
      "47/47 [==============================] - 0s 9ms/step - loss: 171441.1685 - val_loss: 3628892.7500\n",
      "Epoch 8/120\n",
      "47/47 [==============================] - 0s 9ms/step - loss: 153899.8363 - val_loss: 3414845.7500\n",
      "Epoch 9/120\n",
      "47/47 [==============================] - 0s 8ms/step - loss: 123538.0973 - val_loss: 3386829.5000\n",
      "Epoch 10/120\n",
      "47/47 [==============================] - 0s 8ms/step - loss: 120590.6466 - val_loss: 4190038.5000\n",
      "Epoch 11/120\n",
      "47/47 [==============================] - 0s 10ms/step - loss: 117768.7217 - val_loss: 2989075.0000\n",
      "Epoch 12/120\n",
      "47/47 [==============================] - 0s 11ms/step - loss: 132328.5785 - val_loss: 2878567.7500\n",
      "Epoch 13/120\n",
      "47/47 [==============================] - 1s 13ms/step - loss: 100068.3776 - val_loss: 3127370.0000\n",
      "Epoch 14/120\n",
      "47/47 [==============================] - 1s 18ms/step - loss: 98451.3263 - val_loss: 2617679.2500\n",
      "Epoch 15/120\n",
      "47/47 [==============================] - 1s 17ms/step - loss: 108587.1925 - val_loss: 3162817.5000\n",
      "Epoch 16/120\n",
      "47/47 [==============================] - 1s 15ms/step - loss: 88805.0231 - val_loss: 2532863.0000\n",
      "Epoch 17/120\n",
      "47/47 [==============================] - 1s 15ms/step - loss: 88188.9075 - val_loss: 2422231.5000\n",
      "Epoch 18/120\n",
      "47/47 [==============================] - 1s 16ms/step - loss: 73387.3055 - val_loss: 2421249.2500\n",
      "Epoch 19/120\n",
      "47/47 [==============================] - 1s 13ms/step - loss: 87772.7739 - val_loss: 2591963.7500\n",
      "Epoch 20/120\n",
      "47/47 [==============================] - 1s 11ms/step - loss: 89660.2759 - val_loss: 2135785.2500\n",
      "Epoch 21/120\n",
      "47/47 [==============================] - 1s 13ms/step - loss: 67955.8422 - val_loss: 2676631.7500\n",
      "Epoch 22/120\n",
      "47/47 [==============================] - 1s 14ms/step - loss: 79911.9067 - val_loss: 1969079.5000\n",
      "Epoch 23/120\n",
      "47/47 [==============================] - 1s 14ms/step - loss: 75538.4478 - val_loss: 1989576.7500\n",
      "Epoch 24/120\n",
      "47/47 [==============================] - 1s 16ms/step - loss: 68640.6590 - val_loss: 1857592.1250\n",
      "Epoch 25/120\n",
      "47/47 [==============================] - 1s 13ms/step - loss: 64823.9603 - val_loss: 2046205.7500\n",
      "Epoch 26/120\n",
      "47/47 [==============================] - 1s 15ms/step - loss: 67562.3436 - val_loss: 2261115.2500\n",
      "Epoch 27/120\n",
      "47/47 [==============================] - 1s 14ms/step - loss: 72845.2825 - val_loss: 1774954.7500\n",
      "Epoch 28/120\n",
      "47/47 [==============================] - 1s 14ms/step - loss: 63222.8627 - val_loss: 1848019.0000\n",
      "Epoch 29/120\n",
      "47/47 [==============================] - 1s 13ms/step - loss: 57056.4882 - val_loss: 2568491.0000\n",
      "Epoch 30/120\n",
      "47/47 [==============================] - 1s 16ms/step - loss: 64731.2625 - val_loss: 1802595.2500\n",
      "Epoch 31/120\n",
      "47/47 [==============================] - 1s 18ms/step - loss: 84580.4099 - val_loss: 1855087.6250\n",
      "Epoch 32/120\n",
      "47/47 [==============================] - 1s 14ms/step - loss: 42250.3907 - val_loss: 1909765.0000\n",
      "Epoch 33/120\n",
      "47/47 [==============================] - 1s 13ms/step - loss: 54777.4179 - val_loss: 1939665.8750\n",
      "Epoch 34/120\n",
      "47/47 [==============================] - 1s 13ms/step - loss: 54133.7877 - val_loss: 1851160.0000\n",
      "Epoch 35/120\n",
      "47/47 [==============================] - 1s 16ms/step - loss: 68514.8713 - val_loss: 1733444.0000\n",
      "Epoch 36/120\n",
      "47/47 [==============================] - 1s 15ms/step - loss: 44787.3429 - val_loss: 1851949.1250\n",
      "Epoch 37/120\n",
      "47/47 [==============================] - 1s 15ms/step - loss: 46035.7384 - val_loss: 1735950.3750\n",
      "Epoch 38/120\n",
      "47/47 [==============================] - 1s 12ms/step - loss: 51337.5236 - val_loss: 1698342.3750\n",
      "Epoch 39/120\n",
      "47/47 [==============================] - 1s 13ms/step - loss: 47267.0145 - val_loss: 1809959.0000\n",
      "Epoch 40/120\n",
      "47/47 [==============================] - 1s 11ms/step - loss: 42742.5302 - val_loss: 1628975.5000\n",
      "Epoch 41/120\n",
      "47/47 [==============================] - 1s 12ms/step - loss: 44617.9070 - val_loss: 1615768.0000\n",
      "Epoch 42/120\n",
      "47/47 [==============================] - 1s 13ms/step - loss: 41470.6725 - val_loss: 1633440.7500\n",
      "Epoch 43/120\n",
      "47/47 [==============================] - 1s 15ms/step - loss: 44514.2486 - val_loss: 1619128.5000\n",
      "Epoch 44/120\n",
      "47/47 [==============================] - 1s 16ms/step - loss: 39364.1994 - val_loss: 1595233.6250\n",
      "Epoch 45/120\n",
      "47/47 [==============================] - 1s 14ms/step - loss: 63676.7730 - val_loss: 1658528.5000\n",
      "Epoch 46/120\n",
      "47/47 [==============================] - 1s 13ms/step - loss: 45686.7476 - val_loss: 2197033.0000\n",
      "Epoch 47/120\n",
      "47/47 [==============================] - 1s 14ms/step - loss: 50070.2621 - val_loss: 1942405.6250\n",
      "Epoch 48/120\n",
      "47/47 [==============================] - 1s 13ms/step - loss: 49697.9183 - val_loss: 2153133.2500\n",
      "Epoch 49/120\n",
      "47/47 [==============================] - 1s 14ms/step - loss: 61549.9350 - val_loss: 1574237.5000\n",
      "Epoch 50/120\n",
      "47/47 [==============================] - 1s 14ms/step - loss: 50456.1918 - val_loss: 1599577.8750\n",
      "Epoch 51/120\n",
      "47/47 [==============================] - 1s 18ms/step - loss: 40388.8518 - val_loss: 1573207.3750\n",
      "Epoch 52/120\n",
      "47/47 [==============================] - 1s 14ms/step - loss: 48887.4195 - val_loss: 1565215.8750\n",
      "Epoch 53/120\n",
      "47/47 [==============================] - 1s 15ms/step - loss: 45032.6335 - val_loss: 1554251.0000\n",
      "Epoch 54/120\n",
      "47/47 [==============================] - 1s 11ms/step - loss: 44337.5662 - val_loss: 1701108.1250\n",
      "Epoch 55/120\n",
      "47/47 [==============================] - 1s 11ms/step - loss: 39139.2586 - val_loss: 1578524.7500\n",
      "Epoch 56/120\n",
      "47/47 [==============================] - 1s 12ms/step - loss: 37407.9289 - val_loss: 1885909.1250\n",
      "Epoch 57/120\n",
      "47/47 [==============================] - 1s 13ms/step - loss: 59536.7257 - val_loss: 2036376.0000\n",
      "Epoch 58/120\n",
      "47/47 [==============================] - 1s 12ms/step - loss: 37943.9753 - val_loss: 1636205.0000\n",
      "Epoch 59/120\n",
      "47/47 [==============================] - 1s 12ms/step - loss: 46795.0014 - val_loss: 1541686.1250\n",
      "Epoch 60/120\n",
      "47/47 [==============================] - 1s 13ms/step - loss: 37970.2220 - val_loss: 1610414.1250\n",
      "Epoch 61/120\n",
      "47/47 [==============================] - 1s 16ms/step - loss: 36997.2617 - val_loss: 1521818.3750\n",
      "Epoch 62/120\n",
      "47/47 [==============================] - 1s 15ms/step - loss: 38269.1671 - val_loss: 1681991.2500\n",
      "Epoch 63/120\n",
      "47/47 [==============================] - 1s 13ms/step - loss: 45378.6667 - val_loss: 1524443.5000\n",
      "Epoch 64/120\n",
      "47/47 [==============================] - 1s 17ms/step - loss: 39218.3278 - val_loss: 2307318.0000\n",
      "Epoch 65/120\n",
      "47/47 [==============================] - 1s 14ms/step - loss: 40991.5450 - val_loss: 1848527.8750\n",
      "Epoch 66/120\n",
      "47/47 [==============================] - 1s 13ms/step - loss: 39570.1090 - val_loss: 1505986.1250\n",
      "Epoch 67/120\n",
      "47/47 [==============================] - 1s 12ms/step - loss: 35834.5029 - val_loss: 1489949.5000\n",
      "Epoch 68/120\n",
      "47/47 [==============================] - ETA: 0s - loss: 37305.859 - 1s 13ms/step - loss: 37260.1128 - val_loss: 1608438.1250\n",
      "Epoch 69/120\n",
      "47/47 [==============================] - 1s 14ms/step - loss: 36913.1040 - val_loss: 1565440.0000\n",
      "Epoch 70/120\n",
      "47/47 [==============================] - 1s 12ms/step - loss: 38395.5100 - val_loss: 1485769.2500\n",
      "Epoch 71/120\n",
      "47/47 [==============================] - 1s 13ms/step - loss: 31426.2774 - val_loss: 1504266.1250\n",
      "Epoch 72/120\n",
      "47/47 [==============================] - 1s 16ms/step - loss: 31731.1439 - val_loss: 1789902.8750\n",
      "Epoch 73/120\n",
      "47/47 [==============================] - 1s 14ms/step - loss: 39807.3158 - val_loss: 1815558.1250\n",
      "Epoch 74/120\n"
     ]
    },
    {
     "name": "stdout",
     "output_type": "stream",
     "text": [
      "47/47 [==============================] - 1s 15ms/step - loss: 34362.8654 - val_loss: 1475314.8750\n",
      "Epoch 75/120\n",
      "47/47 [==============================] - 1s 14ms/step - loss: 38634.2158 - val_loss: 1539645.6250\n",
      "Epoch 76/120\n",
      "47/47 [==============================] - 1s 11ms/step - loss: 38127.5401 - val_loss: 1544149.8750\n",
      "Epoch 77/120\n",
      "47/47 [==============================] - 1s 11ms/step - loss: 32520.0905 - val_loss: 1504473.7500\n",
      "Epoch 78/120\n",
      "47/47 [==============================] - 1s 13ms/step - loss: 31176.0540 - val_loss: 1809033.1250\n",
      "Epoch 79/120\n",
      "47/47 [==============================] - 1s 13ms/step - loss: 37175.5713 - val_loss: 1442004.6250\n",
      "Epoch 80/120\n",
      "47/47 [==============================] - 1s 16ms/step - loss: 39312.7647 - val_loss: 1670675.6250\n",
      "Epoch 81/120\n",
      "47/47 [==============================] - 1s 14ms/step - loss: 31151.6102 - val_loss: 1531712.0000\n",
      "Epoch 82/120\n",
      "47/47 [==============================] - 1s 14ms/step - loss: 35848.0225 - val_loss: 1465214.3750\n",
      "Epoch 83/120\n",
      "47/47 [==============================] - 1s 16ms/step - loss: 32628.3978 - val_loss: 1428384.0000\n",
      "Epoch 84/120\n",
      "47/47 [==============================] - 1s 21ms/step - loss: 35944.3182 - val_loss: 1705207.0000\n",
      "Epoch 85/120\n",
      "47/47 [==============================] - 1s 21ms/step - loss: 33327.0814 - val_loss: 1540132.6250\n",
      "Epoch 86/120\n",
      "47/47 [==============================] - 1s 18ms/step - loss: 45887.3718 - val_loss: 1439811.0000\n",
      "Epoch 87/120\n",
      "47/47 [==============================] - 1s 17ms/step - loss: 32973.9048 - val_loss: 1687211.8750\n",
      "Epoch 88/120\n",
      "47/47 [==============================] - 1s 17ms/step - loss: 37006.3236 - val_loss: 1440781.7500\n",
      "Epoch 89/120\n",
      "47/47 [==============================] - 1s 19ms/step - loss: 32721.7518 - val_loss: 1924044.5000\n",
      "Epoch 90/120\n",
      "47/47 [==============================] - 1s 19ms/step - loss: 36053.1878 - val_loss: 1434985.5000\n",
      "Epoch 91/120\n",
      "47/47 [==============================] - 1s 20ms/step - loss: 40427.6531 - val_loss: 1439815.5000\n",
      "Epoch 92/120\n",
      "47/47 [==============================] - 1s 23ms/step - loss: 32952.7303 - val_loss: 1468962.2500\n",
      "Epoch 93/120\n",
      "47/47 [==============================] - 1s 19ms/step - loss: 31290.9331 - val_loss: 1403104.1250\n",
      "Epoch 94/120\n",
      "47/47 [==============================] - 1s 15ms/step - loss: 43360.3840 - val_loss: 1491766.7500\n",
      "Epoch 95/120\n",
      "47/47 [==============================] - 1s 17ms/step - loss: 32835.5413 - val_loss: 1482376.3750\n",
      "Epoch 96/120\n",
      "47/47 [==============================] - 1s 16ms/step - loss: 29667.4925 - val_loss: 1456663.3750\n",
      "Epoch 97/120\n",
      "47/47 [==============================] - 1s 19ms/step - loss: 35715.7524 - val_loss: 1391491.5000\n",
      "Epoch 98/120\n",
      "47/47 [==============================] - 1s 18ms/step - loss: 28752.7539 - val_loss: 2248881.2500\n",
      "Epoch 99/120\n",
      "47/47 [==============================] - 1s 13ms/step - loss: 36911.4264 - val_loss: 1378307.6250\n",
      "Epoch 100/120\n",
      "47/47 [==============================] - 1s 13ms/step - loss: 26940.6077 - val_loss: 1375439.3750\n",
      "Epoch 101/120\n",
      "47/47 [==============================] - 1s 13ms/step - loss: 27600.8885 - val_loss: 1369907.5000\n",
      "Epoch 102/120\n",
      "47/47 [==============================] - 1s 14ms/step - loss: 27934.1263 - val_loss: 1367333.2500\n",
      "Epoch 103/120\n",
      "47/47 [==============================] - 1s 15ms/step - loss: 30280.6123 - val_loss: 2719991.0000\n",
      "Epoch 104/120\n",
      "47/47 [==============================] - 1s 14ms/step - loss: 44609.3263 - val_loss: 1368976.3750\n",
      "Epoch 105/120\n",
      "47/47 [==============================] - 1s 12ms/step - loss: 34845.1270 - val_loss: 1375674.2500\n",
      "Epoch 106/120\n",
      "47/47 [==============================] - 1s 11ms/step - loss: 33281.7918 - val_loss: 1359266.1250\n",
      "Epoch 107/120\n",
      "47/47 [==============================] - 1s 11ms/step - loss: 30464.3773 - val_loss: 3742675.7500\n",
      "Epoch 108/120\n",
      "47/47 [==============================] - 1s 11ms/step - loss: 51399.3631 - val_loss: 1375378.8750\n",
      "Epoch 109/120\n",
      "47/47 [==============================] - 1s 11ms/step - loss: 28017.6870 - val_loss: 1402435.5000\n",
      "Epoch 110/120\n",
      "47/47 [==============================] - 1s 11ms/step - loss: 23833.2691 - val_loss: 1375248.1250\n",
      "Epoch 111/120\n",
      "47/47 [==============================] - 1s 16ms/step - loss: 34100.6965 - val_loss: 1373888.5000\n",
      "Epoch 112/120\n",
      "47/47 [==============================] - 1s 11ms/step - loss: 36769.2599 - val_loss: 1240453.0000\n",
      "Epoch 113/120\n",
      "47/47 [==============================] - 0s 11ms/step - loss: 28580.7878 - val_loss: 1191244.5000\n",
      "Epoch 114/120\n",
      "47/47 [==============================] - 1s 13ms/step - loss: 30001.9671 - val_loss: 1277994.5000\n",
      "Epoch 115/120\n",
      "47/47 [==============================] - 1s 14ms/step - loss: 33340.6072 - val_loss: 1156913.0000\n",
      "Epoch 116/120\n",
      "47/47 [==============================] - 1s 16ms/step - loss: 23387.8311 - val_loss: 1351550.5000\n",
      "Epoch 117/120\n",
      "47/47 [==============================] - 1s 15ms/step - loss: 33692.8110 - val_loss: 1159803.7500\n",
      "Epoch 118/120\n",
      "47/47 [==============================] - 1s 12ms/step - loss: 64516.1387 - val_loss: 1242760.5000\n",
      "Epoch 119/120\n",
      "47/47 [==============================] - 1s 12ms/step - loss: 25769.9295 - val_loss: 1251348.3750\n",
      "Epoch 120/120\n",
      "47/47 [==============================] - 1s 11ms/step - loss: 30101.4937 - val_loss: 1118431.6250\n",
      "Epoch 1/120\n",
      "47/47 [==============================] - 4s 26ms/step - loss: 46400.3792 - val_loss: 19016.2227\n",
      "Epoch 2/120\n",
      "47/47 [==============================] - 1s 13ms/step - loss: 371.0020 - val_loss: 18160.7031\n",
      "Epoch 3/120\n",
      "47/47 [==============================] - 1s 17ms/step - loss: 385.9987 - val_loss: 25439.6680\n",
      "Epoch 4/120\n",
      "47/47 [==============================] - 1s 13ms/step - loss: 356.9800 - val_loss: 17827.7129\n",
      "Epoch 5/120\n",
      "47/47 [==============================] - 1s 13ms/step - loss: 443.5346 - val_loss: 13093.2773\n",
      "Epoch 6/120\n",
      "47/47 [==============================] - 1s 18ms/step - loss: 438.5951 - val_loss: 25813.1230\n",
      "Epoch 7/120\n",
      "47/47 [==============================] - 1s 11ms/step - loss: 378.1311 - val_loss: 21326.6172\n",
      "Epoch 8/120\n",
      "47/47 [==============================] - 1s 14ms/step - loss: 412.8508 - val_loss: 15503.0811\n",
      "Epoch 9/120\n",
      "47/47 [==============================] - 1s 13ms/step - loss: 407.7189 - val_loss: 21863.4648\n",
      "Epoch 10/120\n",
      "47/47 [==============================] - 1s 14ms/step - loss: 422.4573 - val_loss: 12262.2100\n",
      "Epoch 11/120\n",
      "47/47 [==============================] - 1s 16ms/step - loss: 323.6811 - val_loss: 20267.4688\n",
      "Epoch 12/120\n",
      "47/47 [==============================] - 1s 13ms/step - loss: 340.6253 - val_loss: 35960.6992\n",
      "Epoch 13/120\n",
      "47/47 [==============================] - 1s 14ms/step - loss: 422.4970 - val_loss: 19070.2344\n",
      "Epoch 14/120\n",
      "47/47 [==============================] - 1s 14ms/step - loss: 393.7056 - val_loss: 21424.9121\n",
      "Epoch 15/120\n",
      "47/47 [==============================] - 1s 14ms/step - loss: 573.2167 - val_loss: 21004.6055\n",
      "Epoch 16/120\n",
      "47/47 [==============================] - 1s 14ms/step - loss: 404.6480 - val_loss: 17086.8574\n",
      "Epoch 17/120\n",
      "47/47 [==============================] - 1s 18ms/step - loss: 406.0163 - val_loss: 31780.6758\n",
      "Epoch 18/120\n",
      "47/47 [==============================] - 1s 13ms/step - loss: 376.6057 - val_loss: 15420.7217\n",
      "Epoch 19/120\n",
      "47/47 [==============================] - 1s 14ms/step - loss: 401.8267 - val_loss: 28016.2422\n",
      "Epoch 20/120\n",
      "47/47 [==============================] - 1s 13ms/step - loss: 352.6482 - val_loss: 18443.6719\n",
      "Epoch 21/120\n",
      "47/47 [==============================] - 1s 11ms/step - loss: 295.6207 - val_loss: 13416.3154\n",
      "Epoch 22/120\n",
      "47/47 [==============================] - 1s 14ms/step - loss: 410.4526 - val_loss: 16459.6699\n",
      "Epoch 23/120\n",
      "47/47 [==============================] - 1s 15ms/step - loss: 327.4192 - val_loss: 19903.8535\n",
      "Epoch 24/120\n",
      "47/47 [==============================] - 1s 13ms/step - loss: 312.0750 - val_loss: 16088.2734\n",
      "Epoch 25/120\n",
      "47/47 [==============================] - 1s 12ms/step - loss: 391.7080 - val_loss: 15374.8213\n",
      "Epoch 26/120\n",
      "47/47 [==============================] - 1s 14ms/step - loss: 296.8783 - val_loss: 11780.8672\n",
      "Epoch 27/120\n",
      "47/47 [==============================] - 1s 13ms/step - loss: 256.8603 - val_loss: 14519.6738\n",
      "Epoch 28/120\n",
      "47/47 [==============================] - 1s 16ms/step - loss: 365.9842 - val_loss: 35241.5391\n"
     ]
    },
    {
     "name": "stdout",
     "output_type": "stream",
     "text": [
      "Epoch 29/120\n",
      "47/47 [==============================] - 1s 16ms/step - loss: 431.6804 - val_loss: 14821.9004\n",
      "Epoch 30/120\n",
      "47/47 [==============================] - 1s 14ms/step - loss: 357.4301 - val_loss: 18169.0840\n",
      "Epoch 31/120\n",
      "47/47 [==============================] - 1s 12ms/step - loss: 377.3770 - val_loss: 13066.7422\n",
      "Epoch 32/120\n",
      "47/47 [==============================] - 1s 12ms/step - loss: 269.4809 - val_loss: 24644.9902\n",
      "Epoch 33/120\n",
      "47/47 [==============================] - 1s 12ms/step - loss: 300.0071 - val_loss: 12288.1875\n",
      "Epoch 34/120\n",
      "47/47 [==============================] - 1s 13ms/step - loss: 218.6038 - val_loss: 11790.0410\n",
      "Epoch 35/120\n",
      "47/47 [==============================] - 1s 14ms/step - loss: 325.0975 - val_loss: 13264.6748\n",
      "Epoch 36/120\n",
      "47/47 [==============================] - 1s 15ms/step - loss: 271.6819 - val_loss: 11834.8291\n",
      "Epoch 37/120\n",
      "47/47 [==============================] - 1s 14ms/step - loss: 255.1811 - val_loss: 10220.4053\n",
      "Epoch 38/120\n",
      "47/47 [==============================] - 1s 13ms/step - loss: 307.2331 - val_loss: 10119.5049\n",
      "Epoch 39/120\n",
      "47/47 [==============================] - 1s 14ms/step - loss: 186.0186 - val_loss: 13687.3936\n",
      "Epoch 40/120\n",
      "47/47 [==============================] - 1s 13ms/step - loss: 217.0786 - val_loss: 21796.0820\n",
      "Epoch 41/120\n",
      "47/47 [==============================] - 1s 12ms/step - loss: 166.1847 - val_loss: 10382.3721\n",
      "Epoch 42/120\n",
      "47/47 [==============================] - 1s 11ms/step - loss: 189.3035 - val_loss: 11383.9854\n",
      "Epoch 43/120\n",
      "47/47 [==============================] - 1s 12ms/step - loss: 174.9881 - val_loss: 9567.7822\n",
      "Epoch 44/120\n",
      "47/47 [==============================] - 1s 15ms/step - loss: 198.5600 - val_loss: 10202.4189\n",
      "Epoch 45/120\n",
      "47/47 [==============================] - 1s 12ms/step - loss: 167.0442 - val_loss: 9375.1953\n",
      "Epoch 46/120\n",
      "47/47 [==============================] - 1s 11ms/step - loss: 295.8938 - val_loss: 8328.2217\n",
      "Epoch 47/120\n",
      "47/47 [==============================] - 1s 13ms/step - loss: 183.6066 - val_loss: 9027.6211\n",
      "Epoch 48/120\n",
      "47/47 [==============================] - 1s 13ms/step - loss: 200.2755 - val_loss: 8949.2959\n",
      "Epoch 49/120\n",
      "47/47 [==============================] - 1s 12ms/step - loss: 209.2447 - val_loss: 10697.2549\n",
      "Epoch 50/120\n",
      "47/47 [==============================] - 1s 13ms/step - loss: 224.2281 - val_loss: 8287.5996\n",
      "Epoch 51/120\n",
      "47/47 [==============================] - 1s 13ms/step - loss: 171.6801 - val_loss: 14934.4678\n",
      "Epoch 52/120\n",
      "47/47 [==============================] - 1s 17ms/step - loss: 146.6016 - val_loss: 8949.0361\n",
      "Epoch 53/120\n",
      "47/47 [==============================] - 1s 14ms/step - loss: 150.8309 - val_loss: 10839.4209\n",
      "Epoch 54/120\n",
      "47/47 [==============================] - 1s 13ms/step - loss: 137.0213 - val_loss: 8843.9346\n",
      "Epoch 55/120\n",
      "47/47 [==============================] - 1s 13ms/step - loss: 167.3488 - val_loss: 7413.1162\n",
      "Epoch 56/120\n",
      "47/47 [==============================] - 1s 13ms/step - loss: 161.4183 - val_loss: 7141.5264\n",
      "Epoch 57/120\n",
      "47/47 [==============================] - 1s 11ms/step - loss: 137.8798 - val_loss: 9064.0273\n",
      "Epoch 58/120\n",
      "47/47 [==============================] - 1s 11ms/step - loss: 155.5966 - val_loss: 15678.7812\n",
      "Epoch 59/120\n",
      "47/47 [==============================] - 1s 11ms/step - loss: 175.5363 - val_loss: 9616.3291\n",
      "Epoch 60/120\n",
      "47/47 [==============================] - 1s 12ms/step - loss: 103.0226 - val_loss: 6830.2583\n",
      "Epoch 61/120\n",
      "47/47 [==============================] - 1s 12ms/step - loss: 139.6605 - val_loss: 9650.2158\n",
      "Epoch 62/120\n",
      "47/47 [==============================] - 1s 12ms/step - loss: 131.0250 - val_loss: 8974.9248\n",
      "Epoch 63/120\n",
      "47/47 [==============================] - 1s 11ms/step - loss: 203.7531 - val_loss: 12294.8828\n",
      "Epoch 64/120\n",
      "47/47 [==============================] - 1s 12ms/step - loss: 160.3791 - val_loss: 13330.5361\n",
      "Epoch 65/120\n",
      "47/47 [==============================] - 1s 12ms/step - loss: 113.4212 - val_loss: 8100.3936\n",
      "Epoch 66/120\n",
      "47/47 [==============================] - 1s 11ms/step - loss: 156.8598 - val_loss: 9226.4492\n",
      "Epoch 67/120\n",
      "47/47 [==============================] - 0s 10ms/step - loss: 136.0051 - val_loss: 6141.2632\n",
      "Epoch 68/120\n",
      "47/47 [==============================] - 1s 11ms/step - loss: 166.1301 - val_loss: 7527.7163\n",
      "Epoch 69/120\n",
      "47/47 [==============================] - 1s 11ms/step - loss: 133.5726 - val_loss: 6030.4570\n",
      "Epoch 70/120\n",
      "47/47 [==============================] - 1s 12ms/step - loss: 122.6936 - val_loss: 6357.1836\n",
      "Epoch 71/120\n",
      "47/47 [==============================] - 1s 13ms/step - loss: 106.8234 - val_loss: 9347.2998\n",
      "Epoch 72/120\n",
      "47/47 [==============================] - 1s 12ms/step - loss: 177.7548 - val_loss: 5965.1558\n",
      "Epoch 73/120\n",
      "47/47 [==============================] - 1s 11ms/step - loss: 123.3439 - val_loss: 5786.0117\n",
      "Epoch 74/120\n",
      "47/47 [==============================] - 1s 12ms/step - loss: 134.7999 - val_loss: 5757.2788\n",
      "Epoch 75/120\n",
      "47/47 [==============================] - 1s 11ms/step - loss: 85.8547 - val_loss: 6811.3530\n",
      "Epoch 76/120\n",
      "47/47 [==============================] - 1s 16ms/step - loss: 100.5867 - val_loss: 6943.8843\n",
      "Epoch 77/120\n",
      "47/47 [==============================] - 1s 15ms/step - loss: 110.2510 - val_loss: 5621.4937\n",
      "Epoch 78/120\n",
      "47/47 [==============================] - 1s 14ms/step - loss: 132.7156 - val_loss: 12413.3701\n",
      "Epoch 79/120\n",
      "47/47 [==============================] - 1s 13ms/step - loss: 141.8168 - val_loss: 5531.7339\n",
      "Epoch 80/120\n",
      "47/47 [==============================] - 1s 16ms/step - loss: 117.8646 - val_loss: 5940.7583\n",
      "Epoch 81/120\n",
      "47/47 [==============================] - 1s 15ms/step - loss: 118.3577 - val_loss: 9609.0137\n",
      "Epoch 82/120\n",
      "47/47 [==============================] - 1s 15ms/step - loss: 112.3274 - val_loss: 10798.8115\n",
      "Epoch 83/120\n",
      "47/47 [==============================] - 1s 15ms/step - loss: 99.4902 - val_loss: 6168.3413\n",
      "Epoch 84/120\n",
      "47/47 [==============================] - 1s 15ms/step - loss: 117.5162 - val_loss: 5787.4131\n",
      "Epoch 85/120\n",
      "47/47 [==============================] - 1s 16ms/step - loss: 101.8751 - val_loss: 5647.8213\n",
      "Epoch 86/120\n",
      "47/47 [==============================] - 1s 15ms/step - loss: 125.9248 - val_loss: 5679.2842\n",
      "Epoch 87/120\n",
      "47/47 [==============================] - 1s 13ms/step - loss: 90.3135 - val_loss: 6267.8081\n",
      "Epoch 88/120\n",
      "47/47 [==============================] - 1s 15ms/step - loss: 108.5649 - val_loss: 6035.0601\n",
      "Epoch 89/120\n",
      "47/47 [==============================] - 1s 13ms/step - loss: 95.8458 - val_loss: 6565.6987\n",
      "Epoch 90/120\n",
      "47/47 [==============================] - 1s 16ms/step - loss: 96.4672 - val_loss: 13050.2783\n",
      "Epoch 91/120\n",
      "47/47 [==============================] - 1s 15ms/step - loss: 82.3760 - val_loss: 11656.6113\n",
      "Epoch 92/120\n",
      "47/47 [==============================] - 1s 12ms/step - loss: 124.1137 - val_loss: 6094.2954\n",
      "Epoch 93/120\n",
      "47/47 [==============================] - 1s 14ms/step - loss: 117.6544 - val_loss: 6834.1279\n",
      "Epoch 94/120\n",
      "47/47 [==============================] - 1s 13ms/step - loss: 96.6220 - val_loss: 6161.8652\n",
      "Epoch 95/120\n",
      "47/47 [==============================] - 1s 16ms/step - loss: 81.9237 - val_loss: 5015.5688\n",
      "Epoch 96/120\n",
      "47/47 [==============================] - 1s 13ms/step - loss: 132.3792 - val_loss: 5833.1724\n",
      "Epoch 97/120\n",
      "47/47 [==============================] - 1s 12ms/step - loss: 86.4929 - val_loss: 5476.2769\n",
      "Epoch 98/120\n",
      "47/47 [==============================] - 1s 13ms/step - loss: 110.1803 - val_loss: 8160.0620\n",
      "Epoch 99/120\n",
      "47/47 [==============================] - 1s 14ms/step - loss: 100.4731 - val_loss: 5237.7168\n",
      "Epoch 100/120\n",
      "47/47 [==============================] - 1s 12ms/step - loss: 109.4738 - val_loss: 6210.8530\n",
      "Epoch 101/120\n",
      "47/47 [==============================] - 1s 13ms/step - loss: 109.1048 - val_loss: 5231.3721\n",
      "Epoch 102/120\n",
      "47/47 [==============================] - 1s 14ms/step - loss: 110.5847 - val_loss: 6781.5557\n",
      "Epoch 103/120\n",
      "47/47 [==============================] - 1s 12ms/step - loss: 93.0944 - val_loss: 8914.2822\n",
      "Epoch 104/120\n",
      "47/47 [==============================] - 1s 12ms/step - loss: 91.5186 - val_loss: 5681.8257\n",
      "Epoch 105/120\n",
      "47/47 [==============================] - 1s 14ms/step - loss: 106.0273 - val_loss: 6165.3579\n",
      "Epoch 106/120\n"
     ]
    },
    {
     "name": "stdout",
     "output_type": "stream",
     "text": [
      "47/47 [==============================] - 1s 13ms/step - loss: 84.0284 - val_loss: 4951.1533\n",
      "Epoch 107/120\n",
      "47/47 [==============================] - 1s 12ms/step - loss: 100.5631 - val_loss: 5997.9746\n",
      "Epoch 108/120\n",
      "47/47 [==============================] - 1s 12ms/step - loss: 78.1795 - val_loss: 4775.7158\n",
      "Epoch 109/120\n",
      "47/47 [==============================] - 1s 12ms/step - loss: 100.9825 - val_loss: 10582.8076\n",
      "Epoch 110/120\n",
      "47/47 [==============================] - 1s 12ms/step - loss: 95.8175 - val_loss: 5108.2886\n",
      "Epoch 111/120\n",
      "47/47 [==============================] - 1s 13ms/step - loss: 85.3153 - val_loss: 5164.4155\n",
      "Epoch 112/120\n",
      "47/47 [==============================] - 1s 16ms/step - loss: 99.5822 - val_loss: 4883.6108\n",
      "Epoch 113/120\n",
      "47/47 [==============================] - 1s 15ms/step - loss: 87.9228 - val_loss: 5054.4248\n",
      "Epoch 114/120\n",
      "47/47 [==============================] - 1s 14ms/step - loss: 85.6942 - val_loss: 6381.0449\n",
      "Epoch 115/120\n",
      "47/47 [==============================] - 1s 14ms/step - loss: 85.9205 - val_loss: 4778.7773\n",
      "Epoch 116/120\n",
      "47/47 [==============================] - 1s 13ms/step - loss: 93.9323 - val_loss: 5086.8867\n",
      "Epoch 117/120\n",
      "47/47 [==============================] - 1s 29ms/step - loss: 99.3850 - val_loss: 7251.2969\n",
      "Epoch 118/120\n",
      "47/47 [==============================] - 1s 21ms/step - loss: 161.0004 - val_loss: 5281.0918\n",
      "Epoch 119/120\n",
      "47/47 [==============================] - 1s 18ms/step - loss: 72.8631 - val_loss: 7189.1035\n",
      "Epoch 120/120\n",
      "47/47 [==============================] - 1s 16ms/step - loss: 72.0574 - val_loss: 7497.1221\n"
     ]
    }
   ],
   "source": [
    "btc_model,btc_X,btc_y,btc_X_valid,btc_y_valid=modelling(btc_dataset)\n",
    "eth_model,eth_X,eth_y,eth_X_valid,eth_y_valid=modelling(eth_dataset)"
   ]
  },
  {
   "cell_type": "code",
   "execution_count": 46,
   "metadata": {},
   "outputs": [],
   "source": [
    "def form(yhat,y):\n",
    "    conf=[[[],[]],#0\n",
    "          [[],[]],#1\n",
    "          [[],[]],#2\n",
    "          [[],[]],#3\n",
    "          [[],[]]] #4\n",
    "    i=1\n",
    "    while i<len(yhat):\n",
    "        if yhat[i]<y[i-1] and y[i]<y[i-1]:\n",
    "            conf[3][0].append(abs(yhat[i]-y[i]))\n",
    "            conf[3][1].append(abs(y[i-1]-y[i])/y[i-1])\n",
    "            conf[4][0].append(True)\n",
    "            conf[4][1].append(1+abs(y[i-1]-y[i])/y[i-1])\n",
    "        elif yhat[i]>y[i-1] and y[i]>y[i-1]:\n",
    "            conf[0][0].append(abs(yhat[i]-y[i]))\n",
    "            conf[0][1].append(abs(y[i-1]-y[i])/y[i-1])\n",
    "            conf[4][0].append(True)\n",
    "            conf[4][1].append(1+abs(y[i-1]-y[i])/y[i-1])\n",
    "        elif yhat[i]>y[i-1] and y[i]<y[i-1]:\n",
    "            conf[2][0].append(abs(yhat[i]-y[i]))\n",
    "            conf[2][1].append(-1*abs(y[i-1]-y[i])/y[i-1])\n",
    "            conf[4][0].append(False)\n",
    "            conf[4][1].append(1-abs(y[i-1]-y[i])/y[i-1])\n",
    "        else:\n",
    "            conf[1][0].append(abs(yhat[i]-y[i]))\n",
    "            conf[1][1].append(-1*abs(y[i-1]-y[i])/y[i-1])\n",
    "            conf[4][0].append(False)\n",
    "            conf[4][1].append(1-abs(y[i-1]-y[i])/y[i-1])\n",
    "        i+=1\n",
    "    \n",
    "    print('Mean')\n",
    "    print([[np.mean(i) for i in j] for j in conf])\n",
    "    print('Count')\n",
    "    print([len(i[0]) for i in conf])\n",
    "    print(\"acc: %{}\".format((len(conf[0][0])+len(conf[3][0]))/(len(conf[0][0])+len(conf[3][0])+len(conf[1][0])+len(conf[2][0]))))\n",
    "    print('Max')\n",
    "    print([[np.max(i) for i in j] for j in conf])\n",
    "    print('Min')\n",
    "    print([[np.min(i) for i in j] for j in conf])\n",
    "    money=100\n",
    "    \n",
    "    for i in range(len(conf[4][1])):\n",
    "        #print(money)\n",
    "        money=((money)*conf[4][1][i])+money*0.2\n",
    "        money*=0.988\n",
    "    return money"
   ]
  },
  {
   "cell_type": "code",
   "execution_count": 47,
   "metadata": {
    "scrolled": true
   },
   "outputs": [
    {
     "name": "stdout",
     "output_type": "stream",
     "text": [
      "Mean\n",
      "[[80.0011997615212, 0.02948736294407623], [156.96304639904528, -0.010541004015797158], [104.63456365727988, -0.00834005945914421], [139.67915538735096, 0.04015010323855464], [0.7995991983967936, 1.0248026025946497]]\n",
      "Count\n",
      "[783, 36, 264, 414, 1497]\n",
      "acc: %0.7995991983967936\n",
      "Max\n",
      "[[1611.3861653124986, 0.27502328089469147], [655.8804171874999, -0.00025001289099435705], [586.6695213437497, -1.6389615947945367e-05], [1111.5746594062502, 0.39013325854584713], [True, 1.390133258545847]]\n",
      "Min\n",
      "[[0.12004180859378266, 1.6216279396242007e-06], [8.573456225781229, -0.042280976385081305], [4.829107242187547, -0.0443348270618088], [0.042292593750062224, 0.0002182769663448989], [False, 0.9556651729381912]]\n"
     ]
    },
    {
     "data": {
      "text/plain": [
       "array([5.44304912e+125])"
      ]
     },
     "execution_count": 47,
     "metadata": {},
     "output_type": "execute_result"
    }
   ],
   "source": [
    "btc_yhat = btc_model.predict(btc_X)\n",
    "btc_yhat_valid = btc_model.predict(btc_X_valid)\n",
    "form(btc_yhat,btc_y)"
   ]
  },
  {
   "cell_type": "code",
   "execution_count": 48,
   "metadata": {},
   "outputs": [
    {
     "data": {
      "text/plain": [
       "[<matplotlib.lines.Line2D at 0x1b8b063b700>]"
      ]
     },
     "execution_count": 48,
     "metadata": {},
     "output_type": "execute_result"
    },
    {
     "data": {
      "image/png": "[encoded data removed]",
      "text/plain": [
       "<Figure size 432x288 with 1 Axes>"
      ]
     },
     "metadata": {
      "needs_background": "light"
     },
     "output_type": "display_data"
    }
   ],
   "source": [
    "fig, btc_ax = plt.subplots()\n",
    "btc_ax.plot(btc_y,color=\"r\")\n",
    "btc_ax.plot(btc_yhat,color=\"b\")"
   ]
  },
  {
   "cell_type": "code",
   "execution_count": 49,
   "metadata": {},
   "outputs": [
    {
     "data": {
      "text/plain": [
       "[<matplotlib.lines.Line2D at 0x1b8b072c4c0>]"
      ]
     },
     "execution_count": 49,
     "metadata": {},
     "output_type": "execute_result"
    },
    {
     "data": {
      "image/png": "[encoded data removed]",
      "text/plain": [
       "<Figure size 432x288 with 1 Axes>"
      ]
     },
     "metadata": {
      "needs_background": "light"
     },
     "output_type": "display_data"
    }
   ],
   "source": [
    "btc_y=btc_y.reshape((btc_y.shape[0],1))\n",
    "btc_dif_y=btc_yhat-btc_y\n",
    "fig, btc_ax = plt.subplots()#figsize=(120, 60)\n",
    "btc_ax.plot(btc_dif_y,color='c')"
   ]
  },
  {
   "cell_type": "code",
   "execution_count": 50,
   "metadata": {},
   "outputs": [
    {
     "name": "stdout",
     "output_type": "stream",
     "text": [
      "Mean\n",
      "[[649.2496951444892, 0.03512027088464233], [796.2186574062496, -0.01128377758658082], [962.4962958728448, -0.01124938218273695], [906.1872099629629, 0.036878569112860644], [0.8045112781954887, 1.026648715529948]]\n",
      "Count\n",
      "[186, 20, 58, 135, 399]\n",
      "acc: %0.8045112781954887\n",
      "Max\n",
      "[[3481.7277774999966, 0.19510779364778952], [2825.4350787500007, -0.0013402539978180487], [2910.482920000002, -2.883425503652371e-05], [8719.698486250003, 0.14498277737817103], [True, 1.1951077936477894]]\n",
      "Min\n",
      "[[22.5921712499985, 3.7493373567202853e-06], [78.96713875000569, -0.036696131782947], [147.2055862499983, -0.05326694705104745], [2.3441975000023376, 0.000890333314277653], [False, 0.9467330529489526]]\n"
     ]
    },
    {
     "data": {
      "text/plain": [
       "array([1.77149124e+35])"
      ]
     },
     "execution_count": 50,
     "metadata": {},
     "output_type": "execute_result"
    }
   ],
   "source": [
    "form(btc_yhat_valid,btc_y_valid)"
   ]
  },
  {
   "cell_type": "code",
   "execution_count": 51,
   "metadata": {},
   "outputs": [
    {
     "data": {
      "text/plain": [
       "[<matplotlib.lines.Line2D at 0x1b8b0778e80>]"
      ]
     },
     "execution_count": 51,
     "metadata": {},
     "output_type": "execute_result"
    },
    {
     "data": {
      "image/png": "[encoded data removed]",
      "text/plain": [
       "<Figure size 432x288 with 1 Axes>"
      ]
     },
     "metadata": {
      "needs_background": "light"
     },
     "output_type": "display_data"
    }
   ],
   "source": [
    "fig, btc_ax = plt.subplots()\n",
    "btc_ax.plot(btc_y_valid,color=\"r\")\n",
    "btc_ax.plot(btc_yhat_valid,color=\"b\")"
   ]
  },
  {
   "cell_type": "code",
   "execution_count": 52,
   "metadata": {
    "collapsed": true
   },
   "outputs": [
    {
     "data": {
      "text/plain": [
       "[<matplotlib.lines.Line2D at 0x1b8b07cbe20>]"
      ]
     },
     "execution_count": 52,
     "metadata": {},
     "output_type": "execute_result"
    },
    {
     "data": {
      "image/png": "[encoded data removed]",
      "text/plain": [
       "<Figure size 432x288 with 1 Axes>"
      ]
     },
     "metadata": {
      "needs_background": "light"
     },
     "output_type": "display_data"
    }
   ],
   "source": [
    "btc_y_valid=btc_y_valid.reshape((btc_y_valid.shape[0],1))\n",
    "btc_dif_y_valid=btc_yhat_valid-btc_y_valid\n",
    "fig, btc_ax = plt.subplots()#figsize=(120, 60)\n",
    "btc_ax.plot(btc_dif_y_valid,color='c')"
   ]
  },
  {
   "cell_type": "code",
   "execution_count": 53,
   "metadata": {},
   "outputs": [
    {
     "name": "stdout",
     "output_type": "stream",
     "text": [
      "Mean\n",
      "[[5.609453418046612, 0.052626678973593334], [5.169099363264351, -0.008704537620123923], [8.406275381070266, -0.01308017096736249], [4.790593988137593, 0.03631312738377475], [0.8510354041416166, 1.0358123079154609]]\n",
      "Count\n",
      "[578, 191, 32, 696, 1497]\n",
      "acc: %0.8510354041416166\n",
      "Max\n",
      "[[71.95139737109378, 0.29217740146982335], [42.06558171171878, -1.671071489576322e-05], [54.234011226562416, -0.00011383286987402487], [53.03911251562499, 0.4410633634812707], [True, 1.4410633634812706]]\n",
      "Min\n",
      "[[0.0025994001952938106, 6.708844975034583e-05], [0.0819425092885746, -0.0397745485027416], [0.20264565060986328, -0.04465629922498815], [0.013077767968724174, 6.0442905334623365e-05], [False, 0.9553437007750119]]\n"
     ]
    },
    {
     "data": {
      "text/plain": [
       "array([2.5155403e+131])"
      ]
     },
     "execution_count": 53,
     "metadata": {},
     "output_type": "execute_result"
    }
   ],
   "source": [
    "eth_yhat = eth_model.predict(eth_X)\n",
    "eth_yhat_valid = eth_model.predict(eth_X_valid)\n",
    "form(eth_yhat,eth_y)"
   ]
  },
  {
   "cell_type": "code",
   "execution_count": 54,
   "metadata": {},
   "outputs": [
    {
     "data": {
      "text/plain": [
       "[<matplotlib.lines.Line2D at 0x1b8b08aec40>]"
      ]
     },
     "execution_count": 54,
     "metadata": {},
     "output_type": "execute_result"
    },
    {
     "data": {
      "image/png": "[encoded data removed]",
      "text/plain": [
       "<Figure size 432x288 with 1 Axes>"
      ]
     },
     "metadata": {
      "needs_background": "light"
     },
     "output_type": "display_data"
    }
   ],
   "source": [
    "fig, eth_ax = plt.subplots()\n",
    "eth_ax.plot(eth_y,color=\"r\")\n",
    "eth_ax.plot(eth_yhat,color=\"b\")"
   ]
  },
  {
   "cell_type": "code",
   "execution_count": 55,
   "metadata": {},
   "outputs": [
    {
     "data": {
      "text/plain": [
       "[<matplotlib.lines.Line2D at 0x1b8b07ebb50>]"
      ]
     },
     "execution_count": 55,
     "metadata": {},
     "output_type": "execute_result"
    },
    {
     "data": {
      "image/png": "[encoded data removed]",
      "text/plain": [
       "<Figure size 432x288 with 1 Axes>"
      ]
     },
     "metadata": {
      "needs_background": "light"
     },
     "output_type": "display_data"
    }
   ],
   "source": [
    "eth_y=eth_y.reshape((eth_y.shape[0],1))\n",
    "eth_dif_y=eth_yhat-eth_y\n",
    "fig, eth_ax = plt.subplots()#figsize=(120, 60)\n",
    "eth_ax.plot(eth_dif_y,color='c')"
   ]
  },
  {
   "cell_type": "code",
   "execution_count": 56,
   "metadata": {},
   "outputs": [
    {
     "name": "stdout",
     "output_type": "stream",
     "text": [
      "Mean\n",
      "[[81.46454706153386, 0.058439129401408836], [89.74083172956155, -0.018239231223744393], [24.90783590234372, -0.010789406768182302], [46.150213071020644, 0.040995717484741276], [0.7568922305764411, 1.0323969611794346]]\n",
      "Count\n",
      "[131, 93, 4, 171, 399]\n",
      "acc: %0.7568922305764411\n",
      "Max\n",
      "[[233.95077464062524, 0.2642298752386079], [275.85873715625075, -1.7316388982556728e-05], [57.86852815625002, -0.001975994787683139], [335.56647748437535, 0.2765006568953808], [True, 1.2765006568953807]]\n",
      "Min\n",
      "[[0.2212426929687581, 0.0003762865777129519], [12.22356203749996, -0.07621475303018994], [7.602813296874956, -0.03482852223179002], [0.0914510492187901, 0.0019631289181387033], [False, 0.92378524696981]]\n"
     ]
    },
    {
     "data": {
      "text/plain": [
       "array([1.00826138e+36])"
      ]
     },
     "execution_count": 56,
     "metadata": {},
     "output_type": "execute_result"
    }
   ],
   "source": [
    "form(eth_yhat_valid,eth_y_valid)"
   ]
  },
  {
   "cell_type": "code",
   "execution_count": 57,
   "metadata": {},
   "outputs": [
    {
     "data": {
      "text/plain": [
       "[<matplotlib.lines.Line2D at 0x1b8b08e0670>]"
      ]
     },
     "execution_count": 57,
     "metadata": {},
     "output_type": "execute_result"
    },
    {
     "data": {
      "image/png": "[encoded data removed]",
      "text/plain": [
       "<Figure size 432x288 with 1 Axes>"
      ]
     },
     "metadata": {
      "needs_background": "light"
     },
     "output_type": "display_data"
    }
   ],
   "source": [
    "fig, eth_ax = plt.subplots()\n",
    "eth_ax.plot(eth_y_valid,color=\"r\")\n",
    "eth_ax.plot(eth_yhat_valid,color=\"b\")"
   ]
  },
  {
   "cell_type": "code",
   "execution_count": 58,
   "metadata": {
    "collapsed": true
   },
   "outputs": [
    {
     "data": {
      "text/plain": [
       "[<matplotlib.lines.Line2D at 0x1b8b093b130>]"
      ]
     },
     "execution_count": 58,
     "metadata": {},
     "output_type": "execute_result"
    },
    {
     "data": {
      "image/png": "[encoded data removed]",
      "text/plain": [
       "<Figure size 432x288 with 1 Axes>"
      ]
     },
     "metadata": {
      "needs_background": "light"
     },
     "output_type": "display_data"
    }
   ],
   "source": [
    "eth_y_valid=eth_y_valid.reshape((eth_y_valid.shape[0],1))\n",
    "eth_dif_y_valid=eth_yhat_valid-eth_y_valid\n",
    "fig, eth_ax = plt.subplots()#figsize=(120, 60)\n",
    "eth_ax.plot(eth_dif_y_valid,color='c')"
   ]
  },
  {
   "cell_type": "code",
   "execution_count": null,
   "metadata": {},
   "outputs": [],
   "source": []
  },
  {
   "cell_type": "code",
   "execution_count": null,
   "metadata": {},
   "outputs": [],
   "source": []
  }
 ],
 "metadata": {
  "kernelspec": {
   "display_name": "Python 3",
   "language": "python",
   "name": "python3"
  },
  "language_info": {
   "codemirror_mode": {
    "name": "ipython",
    "version": 3
   },
   "file_extension": ".py",
   "mimetype": "text/x-python",
   "name": "python",
   "nbconvert_exporter": "python",
   "pygments_lexer": "ipython3",
   "version": "3.8.5"
  }
 },
 "nbformat": 4,
 "nbformat_minor": 4
}
